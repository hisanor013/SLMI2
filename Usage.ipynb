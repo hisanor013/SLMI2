{
 "cells": [
  {
   "cell_type": "markdown",
   "id": "3df84a41",
   "metadata": {},
   "source": [
    "# Import modules"
   ]
  },
  {
   "cell_type": "code",
   "execution_count": 23,
   "id": "31e4ca1c",
   "metadata": {},
   "outputs": [],
   "source": [
    "from util import *\n",
    "from read_data import *\n",
    "import os\n",
    "import glob\n",
    "import networkx as nx"
   ]
  },
  {
   "cell_type": "code",
   "execution_count": null,
   "id": "cbfcb06f",
   "metadata": {},
   "outputs": [],
   "source": []
  },
  {
   "cell_type": "markdown",
   "id": "1b4af108",
   "metadata": {},
   "source": [
    "# List of data"
   ]
  },
  {
   "cell_type": "code",
   "execution_count": 2,
   "id": "bf45dde3",
   "metadata": {},
   "outputs": [
    {
     "name": "stdout",
     "output_type": "stream",
     "text": [
      "['blogcatalog', 'homosapiens', 'wikipos', 'enron', 'unvote', 'untrade', 'uslegis_net', 'uslegis_net_small_dyn', 'uslegis_net_dyn', 'uslegis_hyp_dyn', 'contacts', 'dawn_net', 'dawn_hyp', 'ndc_net', 'ndc_hyp', 'coauth_dblp_net', 'coauth_dblp_hyp', 'wiod2016', 'wiod2013', 'wiodlong', 'eth', 'bitcoinalpha', 'bitcoinotc', 'uscourt']\n"
     ]
    }
   ],
   "source": [
    "data_names = list(name2file_name.keys())\n",
    "print(data_names)"
   ]
  },
  {
   "cell_type": "code",
   "execution_count": null,
   "id": "68a44cff",
   "metadata": {},
   "outputs": [],
   "source": []
  },
  {
   "cell_type": "markdown",
   "id": "7b7d60e1",
   "metadata": {},
   "source": [
    "# Choose one"
   ]
  },
  {
   "cell_type": "code",
   "execution_count": 12,
   "id": "125faca3",
   "metadata": {},
   "outputs": [
    {
     "name": "stdout",
     "output_type": "stream",
     "text": [
      "We are going to use: uscourt\n"
     ]
    }
   ],
   "source": [
    "name = data_names[-1]\n",
    "print(\"We are going to use: \" + name)"
   ]
  },
  {
   "cell_type": "code",
   "execution_count": 14,
   "id": "c1f66b03",
   "metadata": {},
   "outputs": [],
   "source": [
    "# Enable original_format to use the format as originally provided\n",
    "data_dict = get_data(name,original_format=False)"
   ]
  },
  {
   "cell_type": "code",
   "execution_count": null,
   "id": "fb40eb2c",
   "metadata": {},
   "outputs": [],
   "source": []
  },
  {
   "cell_type": "markdown",
   "id": "cac137ee",
   "metadata": {},
   "source": [
    "# What is inside?"
   ]
  },
  {
   "cell_type": "code",
   "execution_count": 15,
   "id": "4158f40c",
   "metadata": {},
   "outputs": [
    {
     "data": {
      "text/plain": [
       "dict_keys(['df_edges', 'df_nodes'])"
      ]
     },
     "execution_count": 15,
     "metadata": {},
     "output_type": "execute_result"
    }
   ],
   "source": [
    "data_dict.keys()"
   ]
  },
  {
   "cell_type": "code",
   "execution_count": 16,
   "id": "408b53d8",
   "metadata": {},
   "outputs": [],
   "source": [
    "df_nodes = data_dict[\"df_nodes\"]\n",
    "df_edges = data_dict[\"df_edges\"]\n"
   ]
  },
  {
   "cell_type": "code",
   "execution_count": 17,
   "id": "e6b8fa48",
   "metadata": {},
   "outputs": [
    {
     "data": {
      "text/html": [
       "<div>\n",
       "<style scoped>\n",
       "    .dataframe tbody tr th:only-of-type {\n",
       "        vertical-align: middle;\n",
       "    }\n",
       "\n",
       "    .dataframe tbody tr th {\n",
       "        vertical-align: top;\n",
       "    }\n",
       "\n",
       "    .dataframe thead th {\n",
       "        text-align: right;\n",
       "    }\n",
       "</style>\n",
       "<table border=\"1\" class=\"dataframe\">\n",
       "  <thead>\n",
       "    <tr style=\"text-align: right;\">\n",
       "      <th></th>\n",
       "      <th>node</th>\n",
       "      <th>in_degree</th>\n",
       "      <th>date</th>\n",
       "      <th>name</th>\n",
       "    </tr>\n",
       "  </thead>\n",
       "  <tbody>\n",
       "    <tr>\n",
       "      <th>0</th>\n",
       "      <td>111170</td>\n",
       "      <td>74369</td>\n",
       "      <td>1984-05-14</td>\n",
       "      <td>466 U.S. 668</td>\n",
       "    </tr>\n",
       "    <tr>\n",
       "      <th>1</th>\n",
       "      <td>111719</td>\n",
       "      <td>58659</td>\n",
       "      <td>1986-06-25</td>\n",
       "      <td>477 U.S. 242</td>\n",
       "    </tr>\n",
       "    <tr>\n",
       "      <th>2</th>\n",
       "      <td>110138</td>\n",
       "      <td>54792</td>\n",
       "      <td>1979-06-28</td>\n",
       "      <td>443 U.S. 307</td>\n",
       "    </tr>\n",
       "    <tr>\n",
       "      <th>3</th>\n",
       "      <td>107423</td>\n",
       "      <td>53308</td>\n",
       "      <td>1967-05-08</td>\n",
       "      <td>386 U.S. 738</td>\n",
       "    </tr>\n",
       "    <tr>\n",
       "      <th>4</th>\n",
       "      <td>111722</td>\n",
       "      <td>52774</td>\n",
       "      <td>1986-06-25</td>\n",
       "      <td>477 U.S. 317</td>\n",
       "    </tr>\n",
       "    <tr>\n",
       "      <th>...</th>\n",
       "      <td>...</td>\n",
       "      <td>...</td>\n",
       "      <td>...</td>\n",
       "      <td>...</td>\n",
       "    </tr>\n",
       "    <tr>\n",
       "      <th>3372</th>\n",
       "      <td>107736</td>\n",
       "      <td>500</td>\n",
       "      <td>1968-06-10</td>\n",
       "      <td>392 U.S. 219</td>\n",
       "    </tr>\n",
       "    <tr>\n",
       "      <th>3373</th>\n",
       "      <td>159430</td>\n",
       "      <td>500</td>\n",
       "      <td>2000-02-02</td>\n",
       "      <td>NotKnown</td>\n",
       "    </tr>\n",
       "    <tr>\n",
       "      <th>3374</th>\n",
       "      <td>1431594</td>\n",
       "      <td>500</td>\n",
       "      <td>1995-01-23</td>\n",
       "      <td>513 U.S. 364</td>\n",
       "    </tr>\n",
       "    <tr>\n",
       "      <th>3375</th>\n",
       "      <td>104234</td>\n",
       "      <td>500</td>\n",
       "      <td>1946-02-04</td>\n",
       "      <td>327 U.S. 114</td>\n",
       "    </tr>\n",
       "    <tr>\n",
       "      <th>3376</th>\n",
       "      <td>107187</td>\n",
       "      <td>500</td>\n",
       "      <td>1966-03-21</td>\n",
       "      <td>383 U.S. 413</td>\n",
       "    </tr>\n",
       "  </tbody>\n",
       "</table>\n",
       "<p>3377 rows × 4 columns</p>\n",
       "</div>"
      ],
      "text/plain": [
       "         node  in_degree        date          name\n",
       "0      111170      74369  1984-05-14  466 U.S. 668\n",
       "1      111719      58659  1986-06-25  477 U.S. 242\n",
       "2      110138      54792  1979-06-28  443 U.S. 307\n",
       "3      107423      53308  1967-05-08  386 U.S. 738\n",
       "4      111722      52774  1986-06-25  477 U.S. 317\n",
       "...       ...        ...         ...           ...\n",
       "3372   107736        500  1968-06-10  392 U.S. 219\n",
       "3373   159430        500  2000-02-02      NotKnown\n",
       "3374  1431594        500  1995-01-23  513 U.S. 364\n",
       "3375   104234        500  1946-02-04  327 U.S. 114\n",
       "3376   107187        500  1966-03-21  383 U.S. 413\n",
       "\n",
       "[3377 rows x 4 columns]"
      ]
     },
     "execution_count": 17,
     "metadata": {},
     "output_type": "execute_result"
    }
   ],
   "source": [
    "df_nodes"
   ]
  },
  {
   "cell_type": "code",
   "execution_count": 18,
   "id": "4fb71838",
   "metadata": {},
   "outputs": [
    {
     "data": {
      "text/html": [
       "<div>\n",
       "<style scoped>\n",
       "    .dataframe tbody tr th:only-of-type {\n",
       "        vertical-align: middle;\n",
       "    }\n",
       "\n",
       "    .dataframe tbody tr th {\n",
       "        vertical-align: top;\n",
       "    }\n",
       "\n",
       "    .dataframe thead th {\n",
       "        text-align: right;\n",
       "    }\n",
       "</style>\n",
       "<table border=\"1\" class=\"dataframe\">\n",
       "  <thead>\n",
       "    <tr style=\"text-align: right;\">\n",
       "      <th></th>\n",
       "      <th>source</th>\n",
       "      <th>target</th>\n",
       "      <th>weight</th>\n",
       "    </tr>\n",
       "  </thead>\n",
       "  <tbody>\n",
       "    <tr>\n",
       "      <th>0</th>\n",
       "      <td>109382</td>\n",
       "      <td>2186852</td>\n",
       "      <td>4</td>\n",
       "    </tr>\n",
       "    <tr>\n",
       "      <th>1</th>\n",
       "      <td>104321</td>\n",
       "      <td>1561296</td>\n",
       "      <td>3</td>\n",
       "    </tr>\n",
       "    <tr>\n",
       "      <th>2</th>\n",
       "      <td>112903</td>\n",
       "      <td>1561296</td>\n",
       "      <td>3</td>\n",
       "    </tr>\n",
       "    <tr>\n",
       "      <th>3</th>\n",
       "      <td>2430249</td>\n",
       "      <td>1561296</td>\n",
       "      <td>3</td>\n",
       "    </tr>\n",
       "    <tr>\n",
       "      <th>4</th>\n",
       "      <td>1713584</td>\n",
       "      <td>1561296</td>\n",
       "      <td>1</td>\n",
       "    </tr>\n",
       "    <tr>\n",
       "      <th>...</th>\n",
       "      <td>...</td>\n",
       "      <td>...</td>\n",
       "      <td>...</td>\n",
       "    </tr>\n",
       "    <tr>\n",
       "      <th>36545</th>\n",
       "      <td>109935</td>\n",
       "      <td>1060945</td>\n",
       "      <td>1</td>\n",
       "    </tr>\n",
       "    <tr>\n",
       "      <th>36546</th>\n",
       "      <td>109532</td>\n",
       "      <td>1060945</td>\n",
       "      <td>1</td>\n",
       "    </tr>\n",
       "    <tr>\n",
       "      <th>36547</th>\n",
       "      <td>109533</td>\n",
       "      <td>1060945</td>\n",
       "      <td>1</td>\n",
       "    </tr>\n",
       "    <tr>\n",
       "      <th>36548</th>\n",
       "      <td>109535</td>\n",
       "      <td>1060945</td>\n",
       "      <td>1</td>\n",
       "    </tr>\n",
       "    <tr>\n",
       "      <th>36549</th>\n",
       "      <td>111092</td>\n",
       "      <td>1060945</td>\n",
       "      <td>1</td>\n",
       "    </tr>\n",
       "  </tbody>\n",
       "</table>\n",
       "<p>36550 rows × 3 columns</p>\n",
       "</div>"
      ],
      "text/plain": [
       "        source   target  weight\n",
       "0       109382  2186852       4\n",
       "1       104321  1561296       3\n",
       "2       112903  1561296       3\n",
       "3      2430249  1561296       3\n",
       "4      1713584  1561296       1\n",
       "...        ...      ...     ...\n",
       "36545   109935  1060945       1\n",
       "36546   109532  1060945       1\n",
       "36547   109533  1060945       1\n",
       "36548   109535  1060945       1\n",
       "36549   111092  1060945       1\n",
       "\n",
       "[36550 rows x 3 columns]"
      ]
     },
     "execution_count": 18,
     "metadata": {},
     "output_type": "execute_result"
    }
   ],
   "source": [
    "df_edges"
   ]
  },
  {
   "cell_type": "code",
   "execution_count": null,
   "id": "1672e114",
   "metadata": {},
   "outputs": [],
   "source": []
  },
  {
   "cell_type": "markdown",
   "id": "d0522a19",
   "metadata": {},
   "source": [
    "# Is everything connected?"
   ]
  },
  {
   "cell_type": "code",
   "execution_count": 19,
   "id": "ba730986",
   "metadata": {},
   "outputs": [],
   "source": [
    "df_edges_cc = return_largest_cc(df_edges)"
   ]
  },
  {
   "cell_type": "code",
   "execution_count": 20,
   "id": "7afe15df",
   "metadata": {},
   "outputs": [
    {
     "data": {
      "text/plain": [
       "36525"
      ]
     },
     "execution_count": 20,
     "metadata": {},
     "output_type": "execute_result"
    }
   ],
   "source": [
    "len(df_edges_cc)"
   ]
  },
  {
   "cell_type": "code",
   "execution_count": 21,
   "id": "bd47a083",
   "metadata": {},
   "outputs": [
    {
     "data": {
      "text/plain": [
       "36550"
      ]
     },
     "execution_count": 21,
     "metadata": {},
     "output_type": "execute_result"
    }
   ],
   "source": [
    "len(df_edges)"
   ]
  },
  {
   "cell_type": "code",
   "execution_count": null,
   "id": "5d6e8d51",
   "metadata": {},
   "outputs": [],
   "source": []
  },
  {
   "cell_type": "code",
   "execution_count": 56,
   "id": "cacffe96",
   "metadata": {},
   "outputs": [],
   "source": []
  }
 ],
 "metadata": {
  "kernelspec": {
   "display_name": "Python 3 (ipykernel)",
   "language": "python",
   "name": "python3"
  },
  "language_info": {
   "codemirror_mode": {
    "name": "ipython",
    "version": 3
   },
   "file_extension": ".py",
   "mimetype": "text/x-python",
   "name": "python",
   "nbconvert_exporter": "python",
   "pygments_lexer": "ipython3",
   "version": "3.8.0"
  }
 },
 "nbformat": 4,
 "nbformat_minor": 5
}
