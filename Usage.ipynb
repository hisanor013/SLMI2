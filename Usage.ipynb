{
 "cells": [
  {
   "cell_type": "markdown",
   "id": "3df84a41",
   "metadata": {},
   "source": [
    "# Import modules"
   ]
  },
  {
   "cell_type": "code",
   "execution_count": 1,
   "id": "31e4ca1c",
   "metadata": {},
   "outputs": [],
   "source": [
    "from util import *\n",
    "from read_data import *\n",
    "import os\n",
    "import glob\n",
    "import networkx as nx"
   ]
  },
  {
   "cell_type": "markdown",
   "id": "1b4af108",
   "metadata": {},
   "source": [
    "# List of data"
   ]
  },
  {
   "cell_type": "code",
   "execution_count": 2,
   "id": "bf45dde3",
   "metadata": {},
   "outputs": [
    {
     "name": "stdout",
     "output_type": "stream",
     "text": [
      "['blogcatalog', 'homosapiens', 'wikipos', 'enron', 'unvote', 'untrade', 'uslegis_net', 'uslegis_net_small_dyn', 'uslegis_net_dyn', 'uslegis_hyp_dyn', 'contacts', 'dawn_net', 'dawn_hyp', 'ndc_net', 'ndc_hyp', 'coauth_dblp_net', 'coauth_dblp_hyp', 'wiod2016', 'wiod2013', 'wiodlong', 'eth', 'bitcoinalpha', 'bitcoinotc', 'uscourt']\n"
     ]
    }
   ],
   "source": [
    "data_names = list(name2file_name.keys())\n",
    "print(data_names)"
   ]
  },
  {
   "cell_type": "markdown",
   "id": "7b7d60e1",
   "metadata": {},
   "source": [
    "# Choose one"
   ]
  },
  {
   "cell_type": "code",
   "execution_count": 3,
   "id": "125faca3",
   "metadata": {},
   "outputs": [
    {
     "name": "stdout",
     "output_type": "stream",
     "text": [
      "We are going to use: enron\n"
     ]
    }
   ],
   "source": [
    "#name = \"wiod2016\"\n",
    "name = data_names[3]\n",
    "print(\"We are going to use: \" + name)"
   ]
  },
  {
   "cell_type": "code",
   "execution_count": 4,
   "id": "c1f66b03",
   "metadata": {},
   "outputs": [
    {
     "data": {
      "text/plain": [
       "dict_keys(['df_edges'])"
      ]
     },
     "execution_count": 4,
     "metadata": {},
     "output_type": "execute_result"
    }
   ],
   "source": [
    "# Enable original_format to use the format as originally provided\n",
    "data_dict = get_data(name,original_format=False)\n",
    "data_dict.keys()"
   ]
  },
  {
   "cell_type": "code",
   "execution_count": 5,
   "id": "408b53d8",
   "metadata": {},
   "outputs": [],
   "source": [
    "#df_nodes = data_dict[\"df_nodes\"]\n",
    "df_edges = data_dict[\"df_edges\"]"
   ]
  },
  {
   "cell_type": "code",
   "execution_count": 6,
   "id": "e6b8fa48",
   "metadata": {},
   "outputs": [
    {
     "data": {
      "text/html": [
       "<div>\n",
       "<style scoped>\n",
       "    .dataframe tbody tr th:only-of-type {\n",
       "        vertical-align: middle;\n",
       "    }\n",
       "\n",
       "    .dataframe tbody tr th {\n",
       "        vertical-align: top;\n",
       "    }\n",
       "\n",
       "    .dataframe thead th {\n",
       "        text-align: right;\n",
       "    }\n",
       "</style>\n",
       "<table border=\"1\" class=\"dataframe\">\n",
       "  <thead>\n",
       "    <tr style=\"text-align: right;\">\n",
       "      <th></th>\n",
       "      <th>index</th>\n",
       "      <th>source</th>\n",
       "      <th>target</th>\n",
       "      <th>timestamp</th>\n",
       "    </tr>\n",
       "  </thead>\n",
       "  <tbody>\n",
       "    <tr>\n",
       "      <th>0</th>\n",
       "      <td>1</td>\n",
       "      <td>115</td>\n",
       "      <td>170</td>\n",
       "      <td>0.0</td>\n",
       "    </tr>\n",
       "    <tr>\n",
       "      <th>1</th>\n",
       "      <td>2</td>\n",
       "      <td>115</td>\n",
       "      <td>170</td>\n",
       "      <td>0.0</td>\n",
       "    </tr>\n",
       "    <tr>\n",
       "      <th>2</th>\n",
       "      <td>3</td>\n",
       "      <td>115</td>\n",
       "      <td>124</td>\n",
       "      <td>529920.0</td>\n",
       "    </tr>\n",
       "    <tr>\n",
       "      <th>3</th>\n",
       "      <td>4</td>\n",
       "      <td>115</td>\n",
       "      <td>124</td>\n",
       "      <td>529920.0</td>\n",
       "    </tr>\n",
       "    <tr>\n",
       "      <th>4</th>\n",
       "      <td>5</td>\n",
       "      <td>115</td>\n",
       "      <td>124</td>\n",
       "      <td>533820.0</td>\n",
       "    </tr>\n",
       "    <tr>\n",
       "      <th>...</th>\n",
       "      <td>...</td>\n",
       "      <td>...</td>\n",
       "      <td>...</td>\n",
       "      <td>...</td>\n",
       "    </tr>\n",
       "    <tr>\n",
       "      <th>125230</th>\n",
       "      <td>125231</td>\n",
       "      <td>18</td>\n",
       "      <td>18</td>\n",
       "      <td>113717323.0</td>\n",
       "    </tr>\n",
       "    <tr>\n",
       "      <th>125231</th>\n",
       "      <td>125232</td>\n",
       "      <td>163</td>\n",
       "      <td>18</td>\n",
       "      <td>113733034.0</td>\n",
       "    </tr>\n",
       "    <tr>\n",
       "      <th>125232</th>\n",
       "      <td>125233</td>\n",
       "      <td>163</td>\n",
       "      <td>156</td>\n",
       "      <td>113733034.0</td>\n",
       "    </tr>\n",
       "    <tr>\n",
       "      <th>125233</th>\n",
       "      <td>125234</td>\n",
       "      <td>163</td>\n",
       "      <td>166</td>\n",
       "      <td>113733034.0</td>\n",
       "    </tr>\n",
       "    <tr>\n",
       "      <th>125234</th>\n",
       "      <td>125235</td>\n",
       "      <td>18</td>\n",
       "      <td>18</td>\n",
       "      <td>113740399.0</td>\n",
       "    </tr>\n",
       "  </tbody>\n",
       "</table>\n",
       "<p>125235 rows × 4 columns</p>\n",
       "</div>"
      ],
      "text/plain": [
       "         index  source  target    timestamp\n",
       "0            1     115     170          0.0\n",
       "1            2     115     170          0.0\n",
       "2            3     115     124     529920.0\n",
       "3            4     115     124     529920.0\n",
       "4            5     115     124     533820.0\n",
       "...        ...     ...     ...          ...\n",
       "125230  125231      18      18  113717323.0\n",
       "125231  125232     163      18  113733034.0\n",
       "125232  125233     163     156  113733034.0\n",
       "125233  125234     163     166  113733034.0\n",
       "125234  125235      18      18  113740399.0\n",
       "\n",
       "[125235 rows x 4 columns]"
      ]
     },
     "execution_count": 6,
     "metadata": {},
     "output_type": "execute_result"
    }
   ],
   "source": [
    "df_edges"
   ]
  },
  {
   "cell_type": "code",
   "execution_count": 18,
   "id": "4fb71838",
   "metadata": {},
   "outputs": [
    {
     "data": {
      "text/html": [
       "<div>\n",
       "<style scoped>\n",
       "    .dataframe tbody tr th:only-of-type {\n",
       "        vertical-align: middle;\n",
       "    }\n",
       "\n",
       "    .dataframe tbody tr th {\n",
       "        vertical-align: top;\n",
       "    }\n",
       "\n",
       "    .dataframe thead th {\n",
       "        text-align: right;\n",
       "    }\n",
       "</style>\n",
       "<table border=\"1\" class=\"dataframe\">\n",
       "  <thead>\n",
       "    <tr style=\"text-align: right;\">\n",
       "      <th></th>\n",
       "      <th>source</th>\n",
       "      <th>target</th>\n",
       "      <th>weight</th>\n",
       "    </tr>\n",
       "  </thead>\n",
       "  <tbody>\n",
       "    <tr>\n",
       "      <th>0</th>\n",
       "      <td>109382</td>\n",
       "      <td>2186852</td>\n",
       "      <td>4</td>\n",
       "    </tr>\n",
       "    <tr>\n",
       "      <th>1</th>\n",
       "      <td>104321</td>\n",
       "      <td>1561296</td>\n",
       "      <td>3</td>\n",
       "    </tr>\n",
       "    <tr>\n",
       "      <th>2</th>\n",
       "      <td>112903</td>\n",
       "      <td>1561296</td>\n",
       "      <td>3</td>\n",
       "    </tr>\n",
       "    <tr>\n",
       "      <th>3</th>\n",
       "      <td>2430249</td>\n",
       "      <td>1561296</td>\n",
       "      <td>3</td>\n",
       "    </tr>\n",
       "    <tr>\n",
       "      <th>4</th>\n",
       "      <td>1713584</td>\n",
       "      <td>1561296</td>\n",
       "      <td>1</td>\n",
       "    </tr>\n",
       "    <tr>\n",
       "      <th>...</th>\n",
       "      <td>...</td>\n",
       "      <td>...</td>\n",
       "      <td>...</td>\n",
       "    </tr>\n",
       "    <tr>\n",
       "      <th>36545</th>\n",
       "      <td>109935</td>\n",
       "      <td>1060945</td>\n",
       "      <td>1</td>\n",
       "    </tr>\n",
       "    <tr>\n",
       "      <th>36546</th>\n",
       "      <td>109532</td>\n",
       "      <td>1060945</td>\n",
       "      <td>1</td>\n",
       "    </tr>\n",
       "    <tr>\n",
       "      <th>36547</th>\n",
       "      <td>109533</td>\n",
       "      <td>1060945</td>\n",
       "      <td>1</td>\n",
       "    </tr>\n",
       "    <tr>\n",
       "      <th>36548</th>\n",
       "      <td>109535</td>\n",
       "      <td>1060945</td>\n",
       "      <td>1</td>\n",
       "    </tr>\n",
       "    <tr>\n",
       "      <th>36549</th>\n",
       "      <td>111092</td>\n",
       "      <td>1060945</td>\n",
       "      <td>1</td>\n",
       "    </tr>\n",
       "  </tbody>\n",
       "</table>\n",
       "<p>36550 rows × 3 columns</p>\n",
       "</div>"
      ],
      "text/plain": [
       "        source   target  weight\n",
       "0       109382  2186852       4\n",
       "1       104321  1561296       3\n",
       "2       112903  1561296       3\n",
       "3      2430249  1561296       3\n",
       "4      1713584  1561296       1\n",
       "...        ...      ...     ...\n",
       "36545   109935  1060945       1\n",
       "36546   109532  1060945       1\n",
       "36547   109533  1060945       1\n",
       "36548   109535  1060945       1\n",
       "36549   111092  1060945       1\n",
       "\n",
       "[36550 rows x 3 columns]"
      ]
     },
     "execution_count": 18,
     "metadata": {},
     "output_type": "execute_result"
    }
   ],
   "source": [
    "df_edges"
   ]
  },
  {
   "cell_type": "code",
   "execution_count": null,
   "id": "1672e114",
   "metadata": {},
   "outputs": [],
   "source": []
  },
  {
   "cell_type": "markdown",
   "id": "d0522a19",
   "metadata": {},
   "source": [
    "# Is everything connected?"
   ]
  },
  {
   "cell_type": "code",
   "execution_count": 19,
   "id": "ba730986",
   "metadata": {},
   "outputs": [],
   "source": [
    "df_edges_cc = return_largest_cc(df_edges)"
   ]
  },
  {
   "cell_type": "code",
   "execution_count": 20,
   "id": "7afe15df",
   "metadata": {},
   "outputs": [
    {
     "data": {
      "text/plain": [
       "36525"
      ]
     },
     "execution_count": 20,
     "metadata": {},
     "output_type": "execute_result"
    }
   ],
   "source": [
    "len(df_edges_cc)"
   ]
  },
  {
   "cell_type": "code",
   "execution_count": 21,
   "id": "bd47a083",
   "metadata": {},
   "outputs": [
    {
     "data": {
      "text/plain": [
       "36550"
      ]
     },
     "execution_count": 21,
     "metadata": {},
     "output_type": "execute_result"
    }
   ],
   "source": [
    "len(df_edges)"
   ]
  },
  {
   "cell_type": "code",
   "execution_count": null,
   "id": "5d6e8d51",
   "metadata": {},
   "outputs": [],
   "source": []
  },
  {
   "cell_type": "code",
   "execution_count": 56,
   "id": "cacffe96",
   "metadata": {},
   "outputs": [],
   "source": []
  }
 ],
 "metadata": {
  "kernelspec": {
   "display_name": "Python 3 (ipykernel)",
   "language": "python",
   "name": "python3"
  },
  "language_info": {
   "codemirror_mode": {
    "name": "ipython",
    "version": 3
   },
   "file_extension": ".py",
   "mimetype": "text/x-python",
   "name": "python",
   "nbconvert_exporter": "python",
   "pygments_lexer": "ipython3",
   "version": "3.8.0"
  }
 },
 "nbformat": 4,
 "nbformat_minor": 5
}
