{
 "cells": [
  {
   "cell_type": "markdown",
   "id": "984e2e20",
   "metadata": {},
   "source": [
    "# Helmholtz Hodge Decomposition"
   ]
  },
  {
   "cell_type": "code",
   "execution_count": 1,
   "id": "b43318bf",
   "metadata": {},
   "outputs": [
    {
     "name": "stdout",
     "output_type": "stream",
     "text": [
      "['blogcatalog', 'homosapiens', 'wikipos', 'enron', 'unvote', 'untrade', 'uslegis_net', 'uslegis_net_small_dyn', 'uslegis_net_dyn', 'uslegis_hyp_dyn', 'contacts', 'dawn_net', 'dawn_hyp', 'ndc_net', 'ndc_hyp', 'coauth_dblp_net', 'coauth_dblp_hyp', 'wiod2016', 'wiod2013', 'wiodlong', 'eth', 'bitcoinalpha', 'bitcoinotc', 'uscourt']\n",
      "We are going to use: enron\n"
     ]
    }
   ],
   "source": [
    "# From the repository\n",
    "from util import *\n",
    "from read_data import *\n",
    "data_names = list(name2file_name.keys())\n",
    "print(data_names)\n",
    "\n",
    "# Basic modules\n",
    "import os\n",
    "import glob\n",
    "import networkx as nx\n",
    "import numpy as np\n",
    "import pandas as pd\n",
    "import matplotlib.pyplot as plt\n",
    "import seaborn as sns\n",
    "\n",
    "#name = \"wiod2016\"\n",
    "name = data_names[3]\n",
    "print(\"We are going to use: \" + name)\n",
    "# Enable original_format to use the format as originally provided\n",
    "data_dict = get_data(name,original_format=False)\n",
    "data_dict.keys()\n",
    "#df_nodes = data_dict[\"df_nodes\"]\n",
    "df_edges = data_dict[\"df_edges\"]\n",
    "# Aggregating through time\n",
    "df_edges_agg = df_edges[[\"source\",\"target\"]].copy()\n",
    "df_edges_agg.drop_duplicates(inplace=True)"
   ]
  },
  {
   "cell_type": "code",
   "execution_count": null,
   "id": "357243ce",
   "metadata": {},
   "outputs": [],
   "source": []
  },
  {
   "cell_type": "markdown",
   "id": "c3ffda74",
   "metadata": {},
   "source": [
    "# Move to FALCON"
   ]
  },
  {
   "cell_type": "code",
   "execution_count": null,
   "id": "fdbd501a",
   "metadata": {},
   "outputs": [],
   "source": [
    "cd ./import/FALCON"
   ]
  },
  {
   "cell_type": "code",
   "execution_count": null,
   "id": "9cf8db11",
   "metadata": {},
   "outputs": [],
   "source": []
  },
  {
   "cell_type": "markdown",
   "id": "5917fcf9",
   "metadata": {},
   "source": [
    "# Compile"
   ]
  },
  {
   "cell_type": "code",
   "execution_count": 4,
   "id": "b9de01a1",
   "metadata": {},
   "outputs": [],
   "source": [
    "%%bash\n",
    "g++ hh_dcmp.cpp -I Eigen -o hh_dcmp"
   ]
  },
  {
   "cell_type": "code",
   "execution_count": null,
   "id": "2d6cc3c3",
   "metadata": {},
   "outputs": [],
   "source": []
  },
  {
   "cell_type": "markdown",
   "id": "a32637c3",
   "metadata": {},
   "source": [
    "# Save edgelist"
   ]
  },
  {
   "cell_type": "code",
   "execution_count": 5,
   "id": "f92e5c77",
   "metadata": {},
   "outputs": [],
   "source": [
    "df_edges_agg[\"weight\"] = 1.0"
   ]
  },
  {
   "cell_type": "code",
   "execution_count": 6,
   "id": "e5384769",
   "metadata": {},
   "outputs": [],
   "source": [
    "df_edges_agg.to_csv(\"edgelist.dat\",index=False,header=None,sep=\" \")"
   ]
  },
  {
   "cell_type": "code",
   "execution_count": null,
   "id": "1110d708",
   "metadata": {},
   "outputs": [],
   "source": []
  },
  {
   "cell_type": "markdown",
   "id": "c9c592fd",
   "metadata": {},
   "source": [
    "# Run"
   ]
  },
  {
   "cell_type": "code",
   "execution_count": 7,
   "id": "40f8500d",
   "metadata": {},
   "outputs": [
    {
     "name": "stdout",
     "output_type": "stream",
     "text": [
      "NbThreads = 1, tol: 1e-10\n",
      "Input file \"edgelist.dat\" [3125x3]\n",
      "Input graph: 184nodes, 3125 links\n",
      "WCC clusters: 3\n",
      "HH decompose starts\n",
      "Complete\n",
      "#iterations: 15\n",
      "estimated error: 7.80971e-12\n",
      "output \"edgelist_potential.dat\"\n",
      "output \"edgelist_potential_flow.dat\"\n",
      "output \"edgelist_loop_flow.dat\"\n",
      "output \"edgelist_log.dat\"\n"
     ]
    }
   ],
   "source": [
    "%%bash\n",
    "./hh_dcmp edgelist.dat"
   ]
  },
  {
   "cell_type": "code",
   "execution_count": null,
   "id": "1367dbd7",
   "metadata": {},
   "outputs": [],
   "source": []
  },
  {
   "cell_type": "markdown",
   "id": "8ed8d313",
   "metadata": {},
   "source": [
    "# Read results"
   ]
  },
  {
   "cell_type": "code",
   "execution_count": 8,
   "id": "a28d44a3",
   "metadata": {},
   "outputs": [
    {
     "name": "stdout",
     "output_type": "stream",
     "text": [
      "Input file name: edgelist.dat\n",
      "Input file: 3125x3\n",
      "Input graph: 184 nodes, 3007 links\n",
      "Potential flow ratio: 0.3246511912\n",
      "Loop flow ratio: 0.6753488088\n"
     ]
    }
   ],
   "source": [
    "%%bash\n",
    "head edgelist_log.dat"
   ]
  },
  {
   "cell_type": "code",
   "execution_count": 9,
   "id": "afdb4621",
   "metadata": {},
   "outputs": [],
   "source": [
    "df_potential = pd.read_csv(\"edgelist_potential.dat\",header=None,sep=\"\\t\")\n",
    "df_potential.columns = [\"node\",\"potential\"]"
   ]
  },
  {
   "cell_type": "code",
   "execution_count": null,
   "id": "a15a77ae",
   "metadata": {},
   "outputs": [],
   "source": []
  },
  {
   "cell_type": "markdown",
   "id": "15ab03f7",
   "metadata": {},
   "source": [
    "# Move back to home directory"
   ]
  },
  {
   "cell_type": "code",
   "execution_count": null,
   "id": "c34efe19",
   "metadata": {},
   "outputs": [],
   "source": [
    "cd .."
   ]
  },
  {
   "cell_type": "code",
   "execution_count": null,
   "id": "7e68a53b",
   "metadata": {},
   "outputs": [],
   "source": [
    "cd .."
   ]
  },
  {
   "cell_type": "code",
   "execution_count": null,
   "id": "1d154eee",
   "metadata": {},
   "outputs": [],
   "source": []
  },
  {
   "cell_type": "markdown",
   "id": "63a8f465",
   "metadata": {},
   "source": [
    "# Histogram of pontential values"
   ]
  },
  {
   "cell_type": "code",
   "execution_count": 13,
   "id": "0e739182",
   "metadata": {},
   "outputs": [
    {
     "data": {
      "image/png": "[encoded data removed]",
      "text/plain": [
       "<Figure size 1000x600 with 1 Axes>"
      ]
     },
     "metadata": {},
     "output_type": "display_data"
    },
    {
     "data": {
      "text/plain": [
       "<Figure size 640x480 with 0 Axes>"
      ]
     },
     "metadata": {},
     "output_type": "display_data"
    }
   ],
   "source": [
    "import matplotlib.pyplot as plt\n",
    "import seaborn as sns\n",
    "import numpy as np\n",
    "\n",
    "# Set the aesthetic style of the plots\n",
    "sns.set_style(\"whitegrid\")\n",
    "\n",
    "# Create a color palette\n",
    "palette = sns.color_palette(\"viridis\", n_colors=10)\n",
    "\n",
    "# Create a histogram with Seaborn's `distplot`\n",
    "plt.figure(figsize=(10, 6))\n",
    "sns.histplot(df_potential[\"potential\"], bins=30, kde=False, color=palette[5], edgecolor=\"k\")\n",
    "\n",
    "# Add title and labels\n",
    "plt.title('Potential (Enron)', fontsize=16)\n",
    "plt.xlabel('Potential', fontsize=14)\n",
    "plt.ylabel('Frequency', fontsize=14)\n",
    "plt.xticks(fontsize=12)\n",
    "plt.yticks(fontsize=12)\n",
    "\n",
    "# Show the plot\n",
    "plt.show()\n",
    "plt.savefig(\"./figures/2021_6_1_Enron_potential.pdf\",bbox_inches=\"tight\")"
   ]
  },
  {
   "cell_type": "code",
   "execution_count": 14,
   "id": "1e8c07ce",
   "metadata": {},
   "outputs": [
    {
     "name": "stdout",
     "output_type": "stream",
     "text": [
      "    node  potential\n",
      "82    83   0.267589\n",
      "     node  potential\n",
      "105   106   0.666706\n",
      "     node  potential\n",
      "107   108   0.208328\n",
      "     node  potential\n",
      "153   154    0.55106\n",
      "     node  potential\n",
      "167   168   0.224677\n"
     ]
    }
   ],
   "source": [
    "cond = df_potential[\"node\"] == 83\n",
    "print(df_potential.loc[cond])\n",
    "cond = df_potential[\"node\"] == 106\n",
    "print(df_potential.loc[cond])\n",
    "cond = df_potential[\"node\"] == 108\n",
    "print(df_potential.loc[cond])\n",
    "cond = df_potential[\"node\"] == 154\n",
    "print(df_potential.loc[cond])\n",
    "cond = df_potential[\"node\"] == 168\n",
    "print(df_potential.loc[cond])"
   ]
  },
  {
   "cell_type": "code",
   "execution_count": 15,
   "id": "21e406c5",
   "metadata": {},
   "outputs": [
    {
     "data": {
      "text/html": [
       "<div>\n",
       "<style scoped>\n",
       "    .dataframe tbody tr th:only-of-type {\n",
       "        vertical-align: middle;\n",
       "    }\n",
       "\n",
       "    .dataframe tbody tr th {\n",
       "        vertical-align: top;\n",
       "    }\n",
       "\n",
       "    .dataframe thead th {\n",
       "        text-align: right;\n",
       "    }\n",
       "</style>\n",
       "<table border=\"1\" class=\"dataframe\">\n",
       "  <thead>\n",
       "    <tr style=\"text-align: right;\">\n",
       "      <th></th>\n",
       "      <th>node</th>\n",
       "      <th>potential</th>\n",
       "    </tr>\n",
       "  </thead>\n",
       "  <tbody>\n",
       "    <tr>\n",
       "      <th>150</th>\n",
       "      <td>151</td>\n",
       "      <td>-1.038726</td>\n",
       "    </tr>\n",
       "    <tr>\n",
       "      <th>164</th>\n",
       "      <td>165</td>\n",
       "      <td>-1.003126</td>\n",
       "    </tr>\n",
       "    <tr>\n",
       "      <th>42</th>\n",
       "      <td>43</td>\n",
       "      <td>-0.859959</td>\n",
       "    </tr>\n",
       "    <tr>\n",
       "      <th>149</th>\n",
       "      <td>150</td>\n",
       "      <td>-0.841447</td>\n",
       "    </tr>\n",
       "    <tr>\n",
       "      <th>111</th>\n",
       "      <td>112</td>\n",
       "      <td>-0.717332</td>\n",
       "    </tr>\n",
       "    <tr>\n",
       "      <th>...</th>\n",
       "      <td>...</td>\n",
       "      <td>...</td>\n",
       "    </tr>\n",
       "    <tr>\n",
       "      <th>74</th>\n",
       "      <td>75</td>\n",
       "      <td>0.714406</td>\n",
       "    </tr>\n",
       "    <tr>\n",
       "      <th>11</th>\n",
       "      <td>12</td>\n",
       "      <td>0.788650</td>\n",
       "    </tr>\n",
       "    <tr>\n",
       "      <th>135</th>\n",
       "      <td>136</td>\n",
       "      <td>1.014313</td>\n",
       "    </tr>\n",
       "    <tr>\n",
       "      <th>71</th>\n",
       "      <td>72</td>\n",
       "      <td>NaN</td>\n",
       "    </tr>\n",
       "    <tr>\n",
       "      <th>117</th>\n",
       "      <td>118</td>\n",
       "      <td>NaN</td>\n",
       "    </tr>\n",
       "  </tbody>\n",
       "</table>\n",
       "<p>184 rows × 2 columns</p>\n",
       "</div>"
      ],
      "text/plain": [
       "     node  potential\n",
       "150   151  -1.038726\n",
       "164   165  -1.003126\n",
       "42     43  -0.859959\n",
       "149   150  -0.841447\n",
       "111   112  -0.717332\n",
       "..    ...        ...\n",
       "74     75   0.714406\n",
       "11     12   0.788650\n",
       "135   136   1.014313\n",
       "71     72        NaN\n",
       "117   118        NaN\n",
       "\n",
       "[184 rows x 2 columns]"
      ]
     },
     "execution_count": 15,
     "metadata": {},
     "output_type": "execute_result"
    }
   ],
   "source": [
    "df_potential.sort_values(by=\"potential\",)"
   ]
  },
  {
   "cell_type": "code",
   "execution_count": null,
   "id": "fee61a47",
   "metadata": {},
   "outputs": [],
   "source": []
  },
  {
   "cell_type": "code",
   "execution_count": null,
   "id": "2f5db733",
   "metadata": {},
   "outputs": [],
   "source": []
  },
  {
   "cell_type": "code",
   "execution_count": null,
   "id": "d36607e6",
   "metadata": {},
   "outputs": [],
   "source": []
  }
 ],
 "metadata": {
  "kernelspec": {
   "display_name": "Python 3 (ipykernel)",
   "language": "python",
   "name": "python3"
  },
  "language_info": {
   "codemirror_mode": {
    "name": "ipython",
    "version": 3
   },
   "file_extension": ".py",
   "mimetype": "text/x-python",
   "name": "python",
   "nbconvert_exporter": "python",
   "pygments_lexer": "ipython3",
   "version": "3.8.0"
  }
 },
 "nbformat": 4,
 "nbformat_minor": 5
}
