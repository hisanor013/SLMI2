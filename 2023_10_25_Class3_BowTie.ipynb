{
 "cells": [
  {
   "cell_type": "markdown",
   "id": "984e2e20",
   "metadata": {},
   "source": [
    "# Bow-tie structure"
   ]
  },
  {
   "cell_type": "code",
   "execution_count": 1,
   "id": "b43318bf",
   "metadata": {},
   "outputs": [
    {
     "name": "stdout",
     "output_type": "stream",
     "text": [
      "['blogcatalog', 'homosapiens', 'wikipos', 'enron', 'unvote', 'untrade', 'uslegis_net', 'uslegis_net_small_dyn', 'uslegis_net_dyn', 'uslegis_hyp_dyn', 'contacts', 'dawn_net', 'dawn_hyp', 'ndc_net', 'ndc_hyp', 'coauth_dblp_net', 'coauth_dblp_hyp', 'wiod2016', 'wiod2013', 'wiodlong', 'eth', 'bitcoinalpha', 'bitcoinotc', 'uscourt']\n",
      "We are going to use: enron\n"
     ]
    }
   ],
   "source": [
    "# From the repository\n",
    "from util import *\n",
    "from read_data import *\n",
    "data_names = list(name2file_name.keys())\n",
    "print(data_names)\n",
    "\n",
    "# Basic modules\n",
    "import os\n",
    "import glob\n",
    "import networkx as nx\n",
    "import numpy as np\n",
    "import pandas as pd\n",
    "import matplotlib.pyplot as plt\n",
    "import seaborn as sns\n",
    "\n",
    "#name = \"wiod2016\"\n",
    "name = data_names[3]\n",
    "print(\"We are going to use: \" + name)"
   ]
  },
  {
   "cell_type": "code",
   "execution_count": 2,
   "id": "dbe58371",
   "metadata": {},
   "outputs": [
    {
     "data": {
      "text/plain": [
       "dict_keys(['df_edges'])"
      ]
     },
     "execution_count": 2,
     "metadata": {},
     "output_type": "execute_result"
    }
   ],
   "source": [
    "# Enable original_format to use the format as originally provided\n",
    "data_dict = get_data(name,original_format=False)\n",
    "data_dict.keys()"
   ]
  },
  {
   "cell_type": "code",
   "execution_count": 3,
   "id": "1710e801",
   "metadata": {},
   "outputs": [],
   "source": [
    "#df_nodes = data_dict[\"df_nodes\"]\n",
    "df_edges = data_dict[\"df_edges\"]"
   ]
  },
  {
   "cell_type": "code",
   "execution_count": 4,
   "id": "89a5bd58",
   "metadata": {},
   "outputs": [],
   "source": [
    "# Aggregating through time\n",
    "df_edges_agg = df_edges[[\"source\",\"target\"]].copy()\n",
    "df_edges_agg.drop_duplicates(inplace=True)"
   ]
  },
  {
   "cell_type": "code",
   "execution_count": null,
   "id": "5fdb9233",
   "metadata": {},
   "outputs": [],
   "source": []
  },
  {
   "cell_type": "markdown",
   "id": "fcfdb571",
   "metadata": {},
   "source": [
    "# Import bow-tie detection"
   ]
  },
  {
   "cell_type": "code",
   "execution_count": 5,
   "id": "6da05931",
   "metadata": {},
   "outputs": [
    {
     "name": "stdout",
     "output_type": "stream",
     "text": [
      "/home/rh/Arbeitsraum/bitbucket/share/SLMI2/import/bow-tie_detection-master\n"
     ]
    }
   ],
   "source": [
    "cd ./import/bow-tie_detection-master/"
   ]
  },
  {
   "cell_type": "code",
   "execution_count": 6,
   "id": "d0a34756",
   "metadata": {},
   "outputs": [],
   "source": [
    "# This is from https://github.com/jeroenvldj/bow-tie_detection\n",
    "from bowtie_detection import get_bowtie_components"
   ]
  },
  {
   "cell_type": "code",
   "execution_count": null,
   "id": "bc0ffded",
   "metadata": {},
   "outputs": [],
   "source": []
  },
  {
   "cell_type": "markdown",
   "id": "e8935a3b",
   "metadata": {},
   "source": [
    "# Run"
   ]
  },
  {
   "cell_type": "code",
   "execution_count": 7,
   "id": "25bf74f3",
   "metadata": {},
   "outputs": [
    {
     "name": "stdout",
     "output_type": "stream",
     "text": [
      "SCC,IN,OUT,IN_TENDRIL,OUT_TENDRIL,TUBE,OTHER\n",
      "174\n",
      "1\n",
      "7\n",
      "0\n",
      "0\n",
      "0\n",
      "2\n",
      "total: 184\n",
      "125235\n",
      "CPU times: user 40.4 ms, sys: 8.27 ms, total: 48.6 ms\n",
      "Wall time: 47.8 ms\n"
     ]
    }
   ],
   "source": [
    "%%time\n",
    "G = nx.from_pandas_edgelist(df_edges_agg,source='source',target='target', edge_attr=None, \n",
    "                        create_using=nx.DiGraph())\n",
    "res = get_bowtie_components(G)\n",
    "agg = 0\n",
    "print(\"SCC,IN,OUT,IN_TENDRIL,OUT_TENDRIL,TUBE,OTHER\")\n",
    "for i in range(7):\n",
    "    print(len(res[i]))\n",
    "    agg += len(res[i])\n",
    "print(\"total: \" + str(agg))\n",
    "print(len(df_edges))"
   ]
  },
  {
   "cell_type": "code",
   "execution_count": null,
   "id": "b08ebb73",
   "metadata": {},
   "outputs": [],
   "source": []
  },
  {
   "cell_type": "code",
   "execution_count": null,
   "id": "e5384769",
   "metadata": {},
   "outputs": [],
   "source": []
  },
  {
   "cell_type": "code",
   "execution_count": null,
   "id": "e1f5d7d4",
   "metadata": {},
   "outputs": [],
   "source": []
  },
  {
   "cell_type": "code",
   "execution_count": null,
   "id": "d36607e6",
   "metadata": {},
   "outputs": [],
   "source": []
  }
 ],
 "metadata": {
  "kernelspec": {
   "display_name": "Python 3 (ipykernel)",
   "language": "python",
   "name": "python3"
  },
  "language_info": {
   "codemirror_mode": {
    "name": "ipython",
    "version": 3
   },
   "file_extension": ".py",
   "mimetype": "text/x-python",
   "name": "python",
   "nbconvert_exporter": "python",
   "pygments_lexer": "ipython3",
   "version": "3.8.0"
  }
 },
 "nbformat": 4,
 "nbformat_minor": 5
}
