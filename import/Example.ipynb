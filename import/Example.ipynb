{
 "cells": [
  {
   "cell_type": "markdown",
   "metadata": {
    "collapsed": true,
    "pycharm": {
     "name": "#%% md\n"
    }
   },
   "source": [
    "# Example notebook\n"
   ]
  },
  {
   "cell_type": "markdown",
   "metadata": {
    "pycharm": {
     "metadata": false
    }
   },
   "source": [
    "As first step, we need to import the `pysbm` package and the `networkx` package, \n",
    "which is the used package for representing the networks. \n",
    "Additionally, we want to create some plots and import `matplotlib`. \n",
    "\n",
    "If you later want to process larger graphs, we recommend using [PyPy](https://pypy.org). \n"
   ]
  },
  {
   "cell_type": "code",
   "execution_count": null,
   "metadata": {
    "pycharm": {
     "metadata": false,
     "name": "#%%\n"
    }
   },
   "outputs": [],
   "source": [
    "import pysbm\n",
    "import networkx as nx\n",
    "import matplotlib.pylab as pl"
   ]
  },
  {
   "cell_type": "markdown",
   "metadata": {
    "pycharm": {
     "metadata": false
    }
   },
   "source": [
    "We start with one of the standard examples, the karate club network.\n",
    "\n",
    "First, we need the graph and encapsulate the graph into a `partition` object with the known number of blocks.\n",
    "The `pysbm` package offers a selection of objective functions and inference methods for the stochastic block model.\n",
    "We want to replay the example of Karrer and Newmann. So we run infer stochastic block models for the karate club graph \n",
    "with the standard and the degree corrected SBM."
   ]
  },
  {
   "cell_type": "code",
   "execution_count": null,
   "metadata": {
    "pycharm": {
     "metadata": false,
     "name": "#%%\n"
    }
   },
   "outputs": [],
   "source": [
    "graph = nx.karate_club_graph()\n",
    "standard_partition = pysbm.NxPartition(\n",
    "    graph=graph, \n",
    "    number_of_blocks=2)\n",
    "degree_corrected_partition = pysbm.NxPartition(\n",
    "    graph=graph, \n",
    "    number_of_blocks=2,\n",
    "    representation=standard_partition.get_representation())\n",
    "standard_objective_function = pysbm.TraditionalUnnormalizedLogLikelyhood(is_directed=False)\n",
    "degree_corrected_objective_function = pysbm.DegreeCorrectedUnnormalizedLogLikelyhood(is_directed=False)"
   ]
  },
  {
   "cell_type": "markdown",
   "metadata": {
    "pycharm": {
     "metadata": false,
     "name": "#%% md\n"
    }
   },
   "source": [
    "Let's first take a look at the current state:"
   ]
  },
  {
   "cell_type": "code",
   "execution_count": null,
   "metadata": {
    "pycharm": {
     "metadata": false,
     "name": "#%%\n"
    }
   },
   "outputs": [],
   "source": [
    "position = nx.spring_layout(graph)\n",
    "\n",
    "nx.draw(graph, position, node_color=['r' if standard_partition.get_block_of_node(node) == 0 else 'b' for node in graph])\n",
    "pl.show()\n",
    "nx.draw(graph, position, node_color=['r' if degree_corrected_partition.get_block_of_node(node) == 0 else 'b' for node in graph])\n",
    "pl.show()"
   ]
  },
  {
   "cell_type": "markdown",
   "metadata": {
    "pycharm": {
     "metadata": false,
     "name": "#%% md\n"
    }
   },
   "source": [
    "As inference method we use MCMC with few steps.\n"
   ]
  },
  {
   "cell_type": "code",
   "execution_count": null,
   "metadata": {
    "pycharm": {
     "metadata": false,
     "name": "#%%\n"
    }
   },
   "outputs": [],
   "source": [
    "standard_inference = pysbm.MetropolisHastingInference(graph, standard_objective_function, standard_partition)\n",
    "degree_corrected_inference = pysbm.MetropolisHastingInference(graph, degree_corrected_objective_function, degree_corrected_partition)"
   ]
  },
  {
   "cell_type": "markdown",
   "metadata": {
    "pycharm": {
     "metadata": false
    }
   },
   "source": [
    "Now we are able to infer the stochastic block model:"
   ]
  },
  {
   "cell_type": "code",
   "execution_count": null,
   "metadata": {
    "pycharm": {
     "metadata": false,
     "name": "#%%\n"
    }
   },
   "outputs": [],
   "source": [
    "standard_inference.infer_stochastic_block_model()\n",
    "degree_corrected_inference.infer_stochastic_block_model()"
   ]
  },
  {
   "cell_type": "markdown",
   "metadata": {
    "pycharm": {}
   },
   "source": [
    "Depending on the random moves you will get different results:"
   ]
  },
  {
   "cell_type": "code",
   "execution_count": null,
   "metadata": {
    "pycharm": {}
   },
   "outputs": [],
   "source": [
    "print(\"Standard SBM with the splitting into high and low degree nodes\")\n",
    "nx.draw(graph, position, node_color=['r' if standard_partition.get_block_of_node(node) == 0 else 'b' for node in graph])\n",
    "pl.show()\n",
    "print(\"Degree Corrected SBM\")\n",
    "nx.draw(graph, position, node_color=['r' if degree_corrected_partition.get_block_of_node(node) == 0 else 'b' for node in graph])\n",
    "pl.show()"
   ]
  }
 ],
 "metadata": {
  "kernelspec": {
   "display_name": "Python 3",
   "language": "python",
   "name": "python3"
  },
  "language_info": {
   "codemirror_mode": {
    "name": "ipython",
    "version": 3
   },
   "file_extension": ".py",
   "mimetype": "text/x-python",
   "name": "python",
   "nbconvert_exporter": "python",
   "pygments_lexer": "ipython3",
   "version": "3.4.3"
  }
 },
 "nbformat": 4,
 "nbformat_minor": 1
}
