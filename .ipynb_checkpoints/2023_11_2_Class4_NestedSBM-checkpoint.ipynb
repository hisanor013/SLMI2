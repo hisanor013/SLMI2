{
 "cells": [
  {
   "cell_type": "markdown",
   "id": "40248900",
   "metadata": {},
   "source": [
    "# Module"
   ]
  },
  {
   "cell_type": "code",
   "execution_count": 1,
   "id": "8ddeccfc",
   "metadata": {},
   "outputs": [
    {
     "name": "stdout",
     "output_type": "stream",
     "text": [
      "['blogcatalog', 'homosapiens', 'wikipos', 'enron', 'unvote', 'untrade', 'uslegis_net', 'uslegis_net_small_dyn', 'uslegis_net_dyn', 'uslegis_hyp_dyn', 'contacts', 'dawn_net', 'dawn_hyp', 'ndc_net', 'ndc_hyp', 'coauth_dblp_net', 'coauth_dblp_hyp', 'wiod2016', 'wiod2013', 'wiodlong', 'eth', 'bitcoinalpha', 'bitcoinotc', 'uscourt']\n",
      "We are going to use: enron\n"
     ]
    }
   ],
   "source": [
    "# From the repository\n",
    "from util import *\n",
    "from read_data import *\n",
    "data_names = list(name2file_name.keys())\n",
    "print(data_names)\n",
    "\n",
    "# Basic modules\n",
    "import os\n",
    "import glob\n",
    "import networkx as nx\n",
    "import numpy as np\n",
    "import pandas as pd\n",
    "import matplotlib.pyplot as plt\n",
    "import seaborn as sns\n",
    "from graph_tool.all import *\n",
    "\n",
    "#name = \"wiod2016\"\n",
    "name = data_names[3]\n",
    "print(\"We are going to use: \" + name)\n",
    "# Enable original_format to use the format as originally provided\n",
    "data_dict = get_data(name,original_format=False)\n",
    "data_dict.keys()\n",
    "#df_nodes = data_dict[\"df_nodes\"]\n",
    "df_edges = data_dict[\"df_edges\"]\n",
    "\n",
    "df_edges = df_edges[[\"source\",\"target\"]].drop_duplicates()\n",
    "cond = df_edges[\"source\"] != df_edges[\"target\"]\n",
    "df_edges = df_edges.loc[cond].copy()"
   ]
  },
  {
   "cell_type": "code",
   "execution_count": null,
   "id": "0884f4d8",
   "metadata": {},
   "outputs": [],
   "source": []
  },
  {
   "cell_type": "code",
   "execution_count": null,
   "id": "664f7ad7",
   "metadata": {},
   "outputs": [],
   "source": []
  },
  {
   "cell_type": "markdown",
   "id": "967de241",
   "metadata": {},
   "source": [
    "# Create Grah Object"
   ]
  },
  {
   "cell_type": "code",
   "execution_count": 2,
   "id": "2411bb84",
   "metadata": {},
   "outputs": [],
   "source": [
    "g = Graph()\n",
    "uni_nodes = list(set(df_edges[\"source\"]))\n",
    "uni_nodes.extend(list(set(df_edges[\"target\"])))\n",
    "uni_nodes = list(set(uni_nodes))  \n",
    "\n",
    "node2index = dict()\n",
    "for i in range(len(uni_nodes)):\n",
    "    node2index.update({uni_nodes[i]:i})\n",
    "    \n",
    "\n",
    "g.add_vertex(len(uni_nodes))\n",
    "weight = g.new_edge_property(\"double\")\n",
    "\n",
    "\n",
    "for i in range(len(df_edges)):\n",
    "    \n",
    "    source_index = node2index[df_edges[\"source\"].iloc[i]]\n",
    "    target_index = node2index[df_edges[\"target\"].iloc[i]]\n",
    "    e = g.add_edge(g.vertex(source_index),g.vertex(target_index))\n",
    "    weight[e] = 1\n",
    "\n",
    "g.edge_properties[\"weight\"] = weight"
   ]
  },
  {
   "cell_type": "code",
   "execution_count": null,
   "id": "756ad5cf",
   "metadata": {},
   "outputs": [],
   "source": []
  },
  {
   "cell_type": "markdown",
   "id": "aa2e11c7",
   "metadata": {},
   "source": [
    "# Approximation but it works well"
   ]
  },
  {
   "cell_type": "code",
   "execution_count": 3,
   "id": "c733a53a",
   "metadata": {},
   "outputs": [
    {
     "name": "stdout",
     "output_type": "stream",
     "text": [
      "Non-degree-corrected DL:\t 7663.2652567340165\n",
      "Degree-corrected DL:\t 7678.185149344292\n",
      "CPU times: user 2min 50s, sys: 554 ms, total: 2min 50s\n",
      "Wall time: 6.97 s\n"
     ]
    }
   ],
   "source": [
    "%%time\n",
    "state_ndc = minimize_nested_blockmodel_dl(g, state_args=dict(deg_corr=False))\n",
    "state_dc  = minimize_nested_blockmodel_dl(g, state_args=dict(deg_corr=True))\n",
    "\n",
    "print(\"Non-degree-corrected DL:\\t\", state_ndc.entropy())\n",
    "print(\"Degree-corrected DL:\\t\", state_dc.entropy())"
   ]
  },
  {
   "cell_type": "code",
   "execution_count": null,
   "id": "00cdc40f",
   "metadata": {},
   "outputs": [],
   "source": []
  },
  {
   "cell_type": "markdown",
   "id": "b7d3cc68",
   "metadata": {},
   "source": [
    "# If you want to refine your result"
   ]
  },
  {
   "cell_type": "code",
   "execution_count": 4,
   "id": "03ea9ff3",
   "metadata": {},
   "outputs": [
    {
     "name": "stdout",
     "output_type": "stream",
     "text": [
      "CPU times: user 5 µs, sys: 0 ns, total: 5 µs\n",
      "Wall time: 11.7 µs\n"
     ]
    }
   ],
   "source": [
    "%%time\n",
    "if 1 == 0:\n",
    "    state_ndc = NestedBlockState(g,state_args=dict(deg_corr=False))\n",
    "    state_dc = NestedBlockState(g,state_args=dict(deg_corr=True))\n",
    "\n",
    "\n",
    "    # Now we run 1000 sweeps of the MCMC\n",
    "\n",
    "    dS, nmoves = 0, 0\n",
    "    for i in range(100):\n",
    "        ret = state_ndc.multiflip_mcmc_sweep(niter=10)\n",
    "        dS += ret[0]\n",
    "        nmoves += ret[1]\n",
    "    print(\"Change in description length:\", dS)\n",
    "    print(\"Number of accepted vertex moves:\", nmoves)\n",
    "\n",
    "\n",
    "    dS, nmoves = 0, 0\n",
    "    for i in range(100):\n",
    "        ret = state_dc.multiflip_mcmc_sweep(niter=10)\n",
    "        dS += ret[0]\n",
    "        nmoves += ret[1]\n",
    "    print(\"Change in description length:\", dS)\n",
    "    print(\"Number of accepted vertex moves:\", nmoves)\n",
    "\n",
    "\n",
    "    print(\"Non-degree-corrected DL:\\t\", state_ndc.entropy())\n",
    "    print(\"Degree-corrected DL:\\t\", state_dc.entropy())"
   ]
  },
  {
   "cell_type": "code",
   "execution_count": null,
   "id": "84a8de8d",
   "metadata": {},
   "outputs": [],
   "source": []
  },
  {
   "cell_type": "code",
   "execution_count": null,
   "id": "8c34015c",
   "metadata": {},
   "outputs": [],
   "source": []
  },
  {
   "cell_type": "markdown",
   "id": "b12b754b",
   "metadata": {},
   "source": [
    "# View Result"
   ]
  },
  {
   "cell_type": "code",
   "execution_count": 5,
   "id": "86109d83",
   "metadata": {},
   "outputs": [
    {
     "name": "stdout",
     "output_type": "stream",
     "text": [
      "<BlockState object with 14 blocks (14 nonempty), degree-corrected, for graph <Graph object, directed, with 182 vertices and 3007 edges, 1 internal edge property, at 0x14e17c22e250>, at 0x14e17c245d30>\n",
      "<BlockState object with 5 blocks (5 nonempty), for graph <Graph object, directed, with 14 vertices and 148 edges, at 0x14e17c245220>, at 0x14e17c236a30>\n",
      "<BlockState object with 3 blocks (3 nonempty), for graph <Graph object, directed, with 5 vertices and 24 edges, at 0x14e17c1d2d00>, at 0x14e17c23bcd0>\n",
      "<BlockState object with 1 blocks (1 nonempty), for graph <Graph object, directed, with 3 vertices and 9 edges, at 0x14e17c1fc730>, at 0x14e17c1ee4f0>\n"
     ]
    }
   ],
   "source": [
    "#state_ndc.print_summary()\n",
    "levels = state_ndc.get_levels()\n",
    "num_levels = len(levels)\n",
    "for s in levels:\n",
    "    print(s)\n",
    "    if s.get_N() == 1:\n",
    "        break"
   ]
  },
  {
   "cell_type": "code",
   "execution_count": 6,
   "id": "0edf476a",
   "metadata": {},
   "outputs": [
    {
     "name": "stdout",
     "output_type": "stream",
     "text": [
      "Group membership of node 4 in level 1: 3\n",
      "Group membership of node 4 in level 2: 2\n",
      "Group membership of node 4 in level 3: 2\n",
      "Group membership of node 4 in level 4: 0\n"
     ]
    }
   ],
   "source": [
    "node_id = 4\n",
    "r = node_id\n",
    "for i in range(num_levels):\n",
    "    r = levels[i].get_blocks()[r]    # group membership of node 46 in level 0\n",
    "    print(\"Group membership of node \" + str(node_id) + \" in level \" + str(i+1) + \": \" + str(r))"
   ]
  },
  {
   "cell_type": "code",
   "execution_count": 7,
   "id": "00d9414e",
   "metadata": {},
   "outputs": [],
   "source": [
    "df_nodes = pd.DataFrame(node2index.items())\n",
    "df_nodes.columns = [\"Id\",\"index\"]\n",
    "for choose_level in range(num_levels):\n",
    "    \n",
    "    b = levels[choose_level].get_blocks()\n",
    "\n",
    "    out = []\n",
    "    for i in range(len(df_nodes)):\n",
    "        ind = df_nodes[\"index\"].iloc[i]\n",
    "        out.append(b[ind])\n",
    "\n",
    "    df_nodes[\"sbm_\" + str(choose_level)] = out"
   ]
  },
  {
   "cell_type": "code",
   "execution_count": 8,
   "id": "2537b0c6",
   "metadata": {},
   "outputs": [
    {
     "data": {
      "text/html": [
       "<div>\n",
       "<style scoped>\n",
       "    .dataframe tbody tr th:only-of-type {\n",
       "        vertical-align: middle;\n",
       "    }\n",
       "\n",
       "    .dataframe tbody tr th {\n",
       "        vertical-align: top;\n",
       "    }\n",
       "\n",
       "    .dataframe thead th {\n",
       "        text-align: right;\n",
       "    }\n",
       "</style>\n",
       "<table border=\"1\" class=\"dataframe\">\n",
       "  <thead>\n",
       "    <tr style=\"text-align: right;\">\n",
       "      <th></th>\n",
       "      <th>Id</th>\n",
       "      <th>index</th>\n",
       "      <th>sbm_0</th>\n",
       "      <th>sbm_1</th>\n",
       "      <th>sbm_2</th>\n",
       "      <th>sbm_3</th>\n",
       "    </tr>\n",
       "  </thead>\n",
       "  <tbody>\n",
       "    <tr>\n",
       "      <th>0</th>\n",
       "      <td>1</td>\n",
       "      <td>0</td>\n",
       "      <td>0</td>\n",
       "      <td>0</td>\n",
       "      <td>0</td>\n",
       "      <td>0</td>\n",
       "    </tr>\n",
       "    <tr>\n",
       "      <th>1</th>\n",
       "      <td>2</td>\n",
       "      <td>1</td>\n",
       "      <td>1</td>\n",
       "      <td>1</td>\n",
       "      <td>1</td>\n",
       "      <td>0</td>\n",
       "    </tr>\n",
       "    <tr>\n",
       "      <th>2</th>\n",
       "      <td>3</td>\n",
       "      <td>2</td>\n",
       "      <td>1</td>\n",
       "      <td>1</td>\n",
       "      <td>2</td>\n",
       "      <td>0</td>\n",
       "    </tr>\n",
       "    <tr>\n",
       "      <th>3</th>\n",
       "      <td>4</td>\n",
       "      <td>3</td>\n",
       "      <td>2</td>\n",
       "      <td>2</td>\n",
       "      <td>0</td>\n",
       "      <td>0</td>\n",
       "    </tr>\n",
       "    <tr>\n",
       "      <th>4</th>\n",
       "      <td>5</td>\n",
       "      <td>4</td>\n",
       "      <td>3</td>\n",
       "      <td>2</td>\n",
       "      <td>0</td>\n",
       "      <td>0</td>\n",
       "    </tr>\n",
       "    <tr>\n",
       "      <th>...</th>\n",
       "      <td>...</td>\n",
       "      <td>...</td>\n",
       "      <td>...</td>\n",
       "      <td>...</td>\n",
       "      <td>...</td>\n",
       "      <td>...</td>\n",
       "    </tr>\n",
       "    <tr>\n",
       "      <th>177</th>\n",
       "      <td>180</td>\n",
       "      <td>177</td>\n",
       "      <td>1</td>\n",
       "      <td>0</td>\n",
       "      <td>0</td>\n",
       "      <td>0</td>\n",
       "    </tr>\n",
       "    <tr>\n",
       "      <th>178</th>\n",
       "      <td>181</td>\n",
       "      <td>178</td>\n",
       "      <td>1</td>\n",
       "      <td>0</td>\n",
       "      <td>0</td>\n",
       "      <td>0</td>\n",
       "    </tr>\n",
       "    <tr>\n",
       "      <th>179</th>\n",
       "      <td>182</td>\n",
       "      <td>179</td>\n",
       "      <td>4</td>\n",
       "      <td>0</td>\n",
       "      <td>0</td>\n",
       "      <td>0</td>\n",
       "    </tr>\n",
       "    <tr>\n",
       "      <th>180</th>\n",
       "      <td>183</td>\n",
       "      <td>180</td>\n",
       "      <td>2</td>\n",
       "      <td>0</td>\n",
       "      <td>0</td>\n",
       "      <td>0</td>\n",
       "    </tr>\n",
       "    <tr>\n",
       "      <th>181</th>\n",
       "      <td>184</td>\n",
       "      <td>181</td>\n",
       "      <td>10</td>\n",
       "      <td>0</td>\n",
       "      <td>0</td>\n",
       "      <td>0</td>\n",
       "    </tr>\n",
       "  </tbody>\n",
       "</table>\n",
       "<p>182 rows × 6 columns</p>\n",
       "</div>"
      ],
      "text/plain": [
       "      Id  index  sbm_0  sbm_1  sbm_2  sbm_3\n",
       "0      1      0      0      0      0      0\n",
       "1      2      1      1      1      1      0\n",
       "2      3      2      1      1      2      0\n",
       "3      4      3      2      2      0      0\n",
       "4      5      4      3      2      0      0\n",
       "..   ...    ...    ...    ...    ...    ...\n",
       "177  180    177      1      0      0      0\n",
       "178  181    178      1      0      0      0\n",
       "179  182    179      4      0      0      0\n",
       "180  183    180      2      0      0      0\n",
       "181  184    181     10      0      0      0\n",
       "\n",
       "[182 rows x 6 columns]"
      ]
     },
     "execution_count": 8,
     "metadata": {},
     "output_type": "execute_result"
    }
   ],
   "source": [
    "df_nodes"
   ]
  },
  {
   "cell_type": "code",
   "execution_count": null,
   "id": "f95de02c",
   "metadata": {},
   "outputs": [],
   "source": []
  },
  {
   "cell_type": "code",
   "execution_count": 9,
   "id": "e3daffed",
   "metadata": {},
   "outputs": [],
   "source": [
    "df_nodes.to_csv(\"./tables/df_nested_sbm.csv\",index=False)"
   ]
  },
  {
   "cell_type": "code",
   "execution_count": null,
   "id": "b980ffca",
   "metadata": {},
   "outputs": [],
   "source": []
  },
  {
   "cell_type": "code",
   "execution_count": null,
   "id": "6f14b01d",
   "metadata": {},
   "outputs": [],
   "source": []
  },
  {
   "cell_type": "code",
   "execution_count": null,
   "id": "68b63c02",
   "metadata": {},
   "outputs": [],
   "source": []
  }
 ],
 "metadata": {
  "kernelspec": {
   "display_name": "Python 3 (ipykernel)",
   "language": "python",
   "name": "python3"
  },
  "language_info": {
   "codemirror_mode": {
    "name": "ipython",
    "version": 3
   },
   "file_extension": ".py",
   "mimetype": "text/x-python",
   "name": "python",
   "nbconvert_exporter": "python",
   "pygments_lexer": "ipython3",
   "version": "3.8.0"
  }
 },
 "nbformat": 4,
 "nbformat_minor": 5
}
