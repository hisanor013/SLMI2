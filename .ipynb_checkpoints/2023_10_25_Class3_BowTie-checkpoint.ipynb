{
 "cells": [
  {
   "cell_type": "markdown",
   "id": "984e2e20",
   "metadata": {},
   "source": [
    "# Bow-tie structure"
   ]
  },
  {
   "cell_type": "code",
   "execution_count": 2,
   "id": "b43318bf",
   "metadata": {},
   "outputs": [
    {
     "name": "stdout",
     "output_type": "stream",
     "text": [
      "['blogcatalog', 'homosapiens', 'wikipos', 'enron', 'unvote', 'untrade', 'uslegis_net', 'uslegis_net_small_dyn', 'uslegis_net_dyn', 'uslegis_hyp_dyn', 'contacts', 'dawn_net', 'dawn_hyp', 'ndc_net', 'ndc_hyp', 'coauth_dblp_net', 'coauth_dblp_hyp', 'wiod2016', 'wiod2013', 'wiodlong', 'eth', 'bitcoinalpha', 'bitcoinotc', 'uscourt']\n",
      "We are going to use: enron\n"
     ]
    }
   ],
   "source": [
    "# From the repository\n",
    "from util import *\n",
    "from read_data import *\n",
    "data_names = list(name2file_name.keys())\n",
    "print(data_names)\n",
    "\n",
    "# Basic modules\n",
    "import os\n",
    "import glob\n",
    "import networkx as nx\n",
    "import numpy as np\n",
    "import pandas as pd\n",
    "import matplotlib.pyplot as plt\n",
    "import seaborn as sns\n",
    "\n",
    "#name = \"wiod2016\"\n",
    "name = data_names[3]\n",
    "print(\"We are going to use: \" + name)"
   ]
  },
  {
   "cell_type": "code",
   "execution_count": 3,
   "id": "dbe58371",
   "metadata": {},
   "outputs": [
    {
     "data": {
      "text/plain": [
       "dict_keys(['df_edges'])"
      ]
     },
     "execution_count": 3,
     "metadata": {},
     "output_type": "execute_result"
    }
   ],
   "source": [
    "# Enable original_format to use the format as originally provided\n",
    "data_dict = get_data(name,original_format=False)\n",
    "data_dict.keys()"
   ]
  },
  {
   "cell_type": "code",
   "execution_count": 4,
   "id": "1710e801",
   "metadata": {},
   "outputs": [],
   "source": [
    "#df_nodes = data_dict[\"df_nodes\"]\n",
    "df_edges = data_dict[\"df_edges\"]"
   ]
  },
  {
   "cell_type": "code",
   "execution_count": 10,
   "id": "d804963d",
   "metadata": {},
   "outputs": [
    {
     "data": {
      "text/html": [
       "<div>\n",
       "<style scoped>\n",
       "    .dataframe tbody tr th:only-of-type {\n",
       "        vertical-align: middle;\n",
       "    }\n",
       "\n",
       "    .dataframe tbody tr th {\n",
       "        vertical-align: top;\n",
       "    }\n",
       "\n",
       "    .dataframe thead th {\n",
       "        text-align: right;\n",
       "    }\n",
       "</style>\n",
       "<table border=\"1\" class=\"dataframe\">\n",
       "  <thead>\n",
       "    <tr style=\"text-align: right;\">\n",
       "      <th></th>\n",
       "      <th>index</th>\n",
       "      <th>source</th>\n",
       "      <th>target</th>\n",
       "      <th>timestamp</th>\n",
       "    </tr>\n",
       "  </thead>\n",
       "  <tbody>\n",
       "    <tr>\n",
       "      <th>0</th>\n",
       "      <td>1</td>\n",
       "      <td>115</td>\n",
       "      <td>170</td>\n",
       "      <td>0.0</td>\n",
       "    </tr>\n",
       "    <tr>\n",
       "      <th>1</th>\n",
       "      <td>2</td>\n",
       "      <td>115</td>\n",
       "      <td>170</td>\n",
       "      <td>0.0</td>\n",
       "    </tr>\n",
       "    <tr>\n",
       "      <th>2</th>\n",
       "      <td>3</td>\n",
       "      <td>115</td>\n",
       "      <td>124</td>\n",
       "      <td>529920.0</td>\n",
       "    </tr>\n",
       "    <tr>\n",
       "      <th>3</th>\n",
       "      <td>4</td>\n",
       "      <td>115</td>\n",
       "      <td>124</td>\n",
       "      <td>529920.0</td>\n",
       "    </tr>\n",
       "    <tr>\n",
       "      <th>4</th>\n",
       "      <td>5</td>\n",
       "      <td>115</td>\n",
       "      <td>124</td>\n",
       "      <td>533820.0</td>\n",
       "    </tr>\n",
       "    <tr>\n",
       "      <th>...</th>\n",
       "      <td>...</td>\n",
       "      <td>...</td>\n",
       "      <td>...</td>\n",
       "      <td>...</td>\n",
       "    </tr>\n",
       "    <tr>\n",
       "      <th>125230</th>\n",
       "      <td>125231</td>\n",
       "      <td>18</td>\n",
       "      <td>18</td>\n",
       "      <td>113717323.0</td>\n",
       "    </tr>\n",
       "    <tr>\n",
       "      <th>125231</th>\n",
       "      <td>125232</td>\n",
       "      <td>163</td>\n",
       "      <td>18</td>\n",
       "      <td>113733034.0</td>\n",
       "    </tr>\n",
       "    <tr>\n",
       "      <th>125232</th>\n",
       "      <td>125233</td>\n",
       "      <td>163</td>\n",
       "      <td>156</td>\n",
       "      <td>113733034.0</td>\n",
       "    </tr>\n",
       "    <tr>\n",
       "      <th>125233</th>\n",
       "      <td>125234</td>\n",
       "      <td>163</td>\n",
       "      <td>166</td>\n",
       "      <td>113733034.0</td>\n",
       "    </tr>\n",
       "    <tr>\n",
       "      <th>125234</th>\n",
       "      <td>125235</td>\n",
       "      <td>18</td>\n",
       "      <td>18</td>\n",
       "      <td>113740399.0</td>\n",
       "    </tr>\n",
       "  </tbody>\n",
       "</table>\n",
       "<p>125235 rows × 4 columns</p>\n",
       "</div>"
      ],
      "text/plain": [
       "         index  source  target    timestamp\n",
       "0            1     115     170          0.0\n",
       "1            2     115     170          0.0\n",
       "2            3     115     124     529920.0\n",
       "3            4     115     124     529920.0\n",
       "4            5     115     124     533820.0\n",
       "...        ...     ...     ...          ...\n",
       "125230  125231      18      18  113717323.0\n",
       "125231  125232     163      18  113733034.0\n",
       "125232  125233     163     156  113733034.0\n",
       "125233  125234     163     166  113733034.0\n",
       "125234  125235      18      18  113740399.0\n",
       "\n",
       "[125235 rows x 4 columns]"
      ]
     },
     "execution_count": 10,
     "metadata": {},
     "output_type": "execute_result"
    }
   ],
   "source": [
    "df_edges[[\"source\",\"target\"]]"
   ]
  },
  {
   "cell_type": "code",
   "execution_count": null,
   "id": "ed659c90",
   "metadata": {},
   "outputs": [],
   "source": []
  },
  {
   "cell_type": "code",
   "execution_count": null,
   "id": "6da05931",
   "metadata": {},
   "outputs": [],
   "source": [
    "cd ./import/bow-tie_detection-master/"
   ]
  },
  {
   "cell_type": "code",
   "execution_count": 8,
   "id": "d0a34756",
   "metadata": {},
   "outputs": [],
   "source": [
    "# This is from https://github.com/jeroenvldj/bow-tie_detection\n",
    "from bowtie_detection import get_bowtie_components"
   ]
  },
  {
   "cell_type": "code",
   "execution_count": 7,
   "id": "25bf74f3",
   "metadata": {},
   "outputs": [
    {
     "name": "stdout",
     "output_type": "stream",
     "text": [
      "SCC,IN,OUT,IN_TENDRIL,OUT_TENDRIL,TUBE,OTHER\n",
      "174\n",
      "1\n",
      "7\n",
      "0\n",
      "0\n",
      "0\n",
      "2\n",
      "total: 184\n",
      "125235\n",
      "CPU times: user 341 ms, sys: 5.87 ms, total: 347 ms\n",
      "Wall time: 345 ms\n"
     ]
    }
   ],
   "source": [
    "%%time\n",
    "G = nx.from_pandas_edgelist(df_edges,source='source',target='target', edge_attr=None, \n",
    "                        create_using=nx.DiGraph())\n",
    "res = get_bowtie_components(G)\n",
    "agg = 0\n",
    "print(\"SCC,IN,OUT,IN_TENDRIL,OUT_TENDRIL,TUBE,OTHER\")\n",
    "for i in range(7):\n",
    "    print(len(res[i]))\n",
    "    agg += len(res[i])\n",
    "print(\"total: \" + str(agg))\n",
    "print(len(df_edges))"
   ]
  },
  {
   "cell_type": "code",
   "execution_count": null,
   "id": "427ff099",
   "metadata": {},
   "outputs": [],
   "source": []
  },
  {
   "cell_type": "code",
   "execution_count": null,
   "id": "e5384769",
   "metadata": {},
   "outputs": [],
   "source": []
  },
  {
   "cell_type": "code",
   "execution_count": null,
   "id": "e1f5d7d4",
   "metadata": {},
   "outputs": [],
   "source": []
  },
  {
   "cell_type": "code",
   "execution_count": null,
   "id": "d36607e6",
   "metadata": {},
   "outputs": [],
   "source": []
  }
 ],
 "metadata": {
  "kernelspec": {
   "display_name": "Python 3 (ipykernel)",
   "language": "python",
   "name": "python3"
  },
  "language_info": {
   "codemirror_mode": {
    "name": "ipython",
    "version": 3
   },
   "file_extension": ".py",
   "mimetype": "text/x-python",
   "name": "python",
   "nbconvert_exporter": "python",
   "pygments_lexer": "ipython3",
   "version": "3.8.0"
  }
 },
 "nbformat": 4,
 "nbformat_minor": 5
}
