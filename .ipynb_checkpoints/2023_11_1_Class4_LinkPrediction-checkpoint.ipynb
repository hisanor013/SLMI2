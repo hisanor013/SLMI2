{
 "cells": [
  {
   "cell_type": "markdown",
   "id": "096490e4",
   "metadata": {},
   "source": [
    "# Imort Module"
   ]
  },
  {
   "cell_type": "code",
   "execution_count": 1,
   "id": "ca30474f",
   "metadata": {},
   "outputs": [
    {
     "data": {
      "text/html": [
       "\n",
       "\t\t\t<script type=\"text/javascript\">\n",
       "\t\t\t<!--\n",
       "\t\t\t\t\n",
       "\t\t\t{\n",
       "\t\t\t\tvar element = document.getElementById('NetworKit_script');\n",
       "\t\t\t\tif (element) {\n",
       "\t\t\t\t\telement.parentNode.removeChild(element);\n",
       "\t\t\t\t}\n",
       "\t\t\t\telement = document.createElement('script');\n",
       "\t\t\t\telement.type = 'text/javascript';\n",
       "\t\t\t\telement.innerHTML = 'function NetworKit_pageEmbed(id) { var i, j; var elements; elements = document.getElementById(id).getElementsByClassName(\"Plot\"); for (i=0; i<elements.length; i++) { elements[i].id = id + \"_Plot_\" + i; var data = elements[i].getAttribute(\"data-image\").split(\"|\"); elements[i].removeAttribute(\"data-image\"); var content = \"<div class=\\\\\"Image\\\\\" id=\\\\\"\" + elements[i].id + \"_Image\\\\\" />\"; elements[i].innerHTML = content; elements[i].setAttribute(\"data-image-index\", 0); elements[i].setAttribute(\"data-image-length\", data.length); for (j=0; j<data.length; j++) { elements[i].setAttribute(\"data-image-\" + j, data[j]); } NetworKit_plotUpdate(elements[i]); elements[i].onclick = function (e) { NetworKit_overlayShow((e.target) ? e.target : e.srcElement); } } elements = document.getElementById(id).getElementsByClassName(\"HeatCell\"); for (i=0; i<elements.length; i++) { var data = parseFloat(elements[i].getAttribute(\"data-heat\")); var color = \"#00FF00\"; if (data <= 1 && data > 0) { color = \"hsla(0, 100%, 75%, \" + (data) + \")\"; } else if (data <= 0 && data >= -1) { color = \"hsla(240, 100%, 75%, \" + (-data) + \")\"; } elements[i].style.backgroundColor = color; } elements = document.getElementById(id).getElementsByClassName(\"Details\"); for (i=0; i<elements.length; i++) { elements[i].setAttribute(\"data-title\", \"-\"); NetworKit_toggleDetails(elements[i]); elements[i].onclick = function (e) { NetworKit_toggleDetails((e.target) ? e.target : e.srcElement); } } elements = document.getElementById(id).getElementsByClassName(\"MathValue\"); for (i=elements.length-1; i>=0; i--) { value = elements[i].innerHTML.trim(); if (value === \"nan\") { elements[i].parentNode.innerHTML = \"\" } } elements = document.getElementById(id).getElementsByClassName(\"SubCategory\"); for (i=elements.length-1; i>=0; i--) { value = elements[i].innerHTML.trim(); if (value === \"\") { elements[i].parentNode.removeChild(elements[i]) } } elements = document.getElementById(id).getElementsByClassName(\"Category\"); for (i=elements.length-1; i>=0; i--) { value = elements[i].innerHTML.trim(); if (value === \"\") { elements[i].parentNode.removeChild(elements[i]) } } var isFirefox = false; try { isFirefox = typeof InstallTrigger !== \"undefined\"; } catch (e) {} if (!isFirefox) { alert(\"Currently the function\\'s output is only fully supported by Firefox.\"); } } function NetworKit_plotUpdate(source) { var index = source.getAttribute(\"data-image-index\"); var data = source.getAttribute(\"data-image-\" + index); var image = document.getElementById(source.id + \"_Image\"); image.style.backgroundImage = \"url(\" + data + \")\"; } function NetworKit_showElement(id, show) { var element = document.getElementById(id); element.style.display = (show) ? \"block\" : \"none\"; } function NetworKit_overlayShow(source) { NetworKit_overlayUpdate(source); NetworKit_showElement(\"NetworKit_Overlay\", true); } function NetworKit_overlayUpdate(source) { document.getElementById(\"NetworKit_Overlay_Title\").innerHTML = source.title; var index = source.getAttribute(\"data-image-index\"); var data = source.getAttribute(\"data-image-\" + index); var image = document.getElementById(\"NetworKit_Overlay_Image\"); image.setAttribute(\"data-id\", source.id); image.style.backgroundImage = \"url(\" + data + \")\"; var link = document.getElementById(\"NetworKit_Overlay_Toolbar_Bottom_Save\"); link.href = data; link.download = source.title + \".svg\"; } function NetworKit_overlayImageShift(delta) { var image = document.getElementById(\"NetworKit_Overlay_Image\"); var source = document.getElementById(image.getAttribute(\"data-id\")); var index = parseInt(source.getAttribute(\"data-image-index\")); var length = parseInt(source.getAttribute(\"data-image-length\")); var index = (index+delta) % length; if (index < 0) { index = length + index; } source.setAttribute(\"data-image-index\", index); NetworKit_overlayUpdate(source); } function NetworKit_toggleDetails(source) { var childs = source.children; var show = false; if (source.getAttribute(\"data-title\") == \"-\") { source.setAttribute(\"data-title\", \"+\"); show = false; } else { source.setAttribute(\"data-title\", \"-\"); show = true; } for (i=0; i<childs.length; i++) { if (show) { childs[i].style.display = \"block\"; } else { childs[i].style.display = \"none\"; } } }';\n",
       "\t\t\t\telement.setAttribute('id', 'NetworKit_script');\n",
       "\t\t\t\tdocument.head.appendChild(element);\n",
       "\t\t\t}\n",
       "\t\t\n",
       "\t\t\t\t\n",
       "\t\t\t{\n",
       "\t\t\t\tvar element = document.getElementById('NetworKit_style');\n",
       "\t\t\t\tif (element) {\n",
       "\t\t\t\t\telement.parentNode.removeChild(element);\n",
       "\t\t\t\t}\n",
       "\t\t\t\telement = document.createElement('style');\n",
       "\t\t\t\telement.type = 'text/css';\n",
       "\t\t\t\telement.innerHTML = '.NetworKit_Page { font-family: Arial, Helvetica, sans-serif; font-size: 14px; } .NetworKit_Page .Value:before { font-family: Arial, Helvetica, sans-serif; font-size: 1.05em; content: attr(data-title) \":\"; margin-left: -2.5em; padding-right: 0.5em; } .NetworKit_Page .Details .Value:before { display: block; } .NetworKit_Page .Value { font-family: monospace; white-space: pre; padding-left: 2.5em; white-space: -moz-pre-wrap !important; white-space: -pre-wrap; white-space: -o-pre-wrap; white-space: pre-wrap; word-wrap: break-word; tab-size: 4; -moz-tab-size: 4; } .NetworKit_Page .Category { clear: both; padding-left: 1em; margin-bottom: 1.5em; } .NetworKit_Page .Category:before { content: attr(data-title); font-size: 1.75em; display: block; margin-left: -0.8em; margin-bottom: 0.5em; } .NetworKit_Page .SubCategory { margin-bottom: 1.5em; padding-left: 1em; } .NetworKit_Page .SubCategory:before { font-size: 1.6em; display: block; margin-left: -0.8em; margin-bottom: 0.5em; } .NetworKit_Page .SubCategory[data-title]:before { content: attr(data-title); } .NetworKit_Page .Block { display: block; } .NetworKit_Page .Block:after { content: \".\"; visibility: hidden; display: block; height: 0; clear: both; } .NetworKit_Page .Block .Thumbnail_Overview, .NetworKit_Page .Block .Thumbnail_ScatterPlot { width: 260px; float: left; } .NetworKit_Page .Block .Thumbnail_Overview img, .NetworKit_Page .Block .Thumbnail_ScatterPlot img { width: 260px; } .NetworKit_Page .Block .Thumbnail_Overview:before, .NetworKit_Page .Block .Thumbnail_ScatterPlot:before { display: block; text-align: center; font-weight: bold; } .NetworKit_Page .Block .Thumbnail_Overview:before { content: attr(data-title); } .NetworKit_Page .HeatCell { font-family: \"Courier New\", Courier, monospace; cursor: pointer; } .NetworKit_Page .HeatCell, .NetworKit_Page .HeatCellName { display: inline; padding: 0.1em; margin-right: 2px; background-color: #FFFFFF } .NetworKit_Page .HeatCellName { margin-left: 0.25em; } .NetworKit_Page .HeatCell:before { content: attr(data-heat); display: inline-block; color: #000000; width: 4em; text-align: center; } .NetworKit_Page .Measure { clear: both; } .NetworKit_Page .Measure .Details { cursor: pointer; } .NetworKit_Page .Measure .Details:before { content: \"[\" attr(data-title) \"]\"; display: block; } .NetworKit_Page .Measure .Details .Value { border-left: 1px dotted black; margin-left: 0.4em; padding-left: 3.5em; pointer-events: none; } .NetworKit_Page .Measure .Details .Spacer:before { content: \".\"; opacity: 0.0; pointer-events: none; } .NetworKit_Page .Measure .Plot { width: 440px; height: 440px; cursor: pointer; float: left; margin-left: -0.9em; margin-right: 20px; } .NetworKit_Page .Measure .Plot .Image { background-repeat: no-repeat; background-position: center center; background-size: contain; height: 100%; pointer-events: none; } .NetworKit_Page .Measure .Stat { width: 500px; float: left; } .NetworKit_Page .Measure .Stat .Group { padding-left: 1.25em; margin-bottom: 0.75em; } .NetworKit_Page .Measure .Stat .Group .Title { font-size: 1.1em; display: block; margin-bottom: 0.3em; margin-left: -0.75em; border-right-style: dotted; border-right-width: 1px; border-bottom-style: dotted; border-bottom-width: 1px; background-color: #D0D0D0; padding-left: 0.2em; } .NetworKit_Page .Measure .Stat .Group .List { -webkit-column-count: 3; -moz-column-count: 3; column-count: 3; } .NetworKit_Page .Measure .Stat .Group .List .Entry { position: relative; line-height: 1.75em; } .NetworKit_Page .Measure .Stat .Group .List .Entry[data-tooltip]:before { position: absolute; left: 0; top: -40px; background-color: #808080; color: #ffffff; height: 30px; line-height: 30px; border-radius: 5px; padding: 0 15px; content: attr(data-tooltip); white-space: nowrap; display: none; } .NetworKit_Page .Measure .Stat .Group .List .Entry[data-tooltip]:after { position: absolute; left: 15px; top: -10px; border-top: 7px solid #808080; border-left: 7px solid transparent; border-right: 7px solid transparent; content: \"\"; display: none; } .NetworKit_Page .Measure .Stat .Group .List .Entry[data-tooltip]:hover:after, .NetworKit_Page .Measure .Stat .Group .List .Entry[data-tooltip]:hover:before { display: block; } .NetworKit_Page .Measure .Stat .Group .List .Entry .MathValue { font-family: \"Courier New\", Courier, monospace; } .NetworKit_Page .Measure:after { content: \".\"; visibility: hidden; display: block; height: 0; clear: both; } .NetworKit_Page .PartitionPie { clear: both; } .NetworKit_Page .PartitionPie img { width: 600px; } #NetworKit_Overlay { left: 0px; top: 0px; display: none; position: absolute; width: 100%; height: 100%; background-color: rgba(0,0,0,0.6); z-index: 1000; } #NetworKit_Overlay_Title { position: absolute; color: white; transform: rotate(-90deg); width: 32em; height: 32em; padding-right: 0.5em; padding-top: 0.5em; text-align: right; font-size: 40px; } #NetworKit_Overlay .button { background: white; cursor: pointer; } #NetworKit_Overlay .button:before { size: 13px; display: inline-block; text-align: center; margin-top: 0.5em; margin-bottom: 0.5em; width: 1.5em; height: 1.5em; } #NetworKit_Overlay .icon-close:before { content: \"X\"; } #NetworKit_Overlay .icon-previous:before { content: \"P\"; } #NetworKit_Overlay .icon-next:before { content: \"N\"; } #NetworKit_Overlay .icon-save:before { content: \"S\"; } #NetworKit_Overlay_Toolbar_Top, #NetworKit_Overlay_Toolbar_Bottom { position: absolute; width: 40px; right: 13px; text-align: right; z-index: 1100; } #NetworKit_Overlay_Toolbar_Top { top: 0.5em; } #NetworKit_Overlay_Toolbar_Bottom { Bottom: 0.5em; } #NetworKit_Overlay_ImageContainer { position: absolute; top: 5%; left: 5%; height: 90%; width: 90%; background-repeat: no-repeat; background-position: center center; background-size: contain; } #NetworKit_Overlay_Image { height: 100%; width: 100%; background-repeat: no-repeat; background-position: center center; background-size: contain; }';\n",
       "\t\t\t\telement.setAttribute('id', 'NetworKit_style');\n",
       "\t\t\t\tdocument.head.appendChild(element);\n",
       "\t\t\t}\n",
       "\t\t\n",
       "\t\t\t\t\n",
       "\t\t\t{\n",
       "\t\t\t\tvar element = document.getElementById('NetworKit_Overlay');\n",
       "\t\t\t\tif (element) {\n",
       "\t\t\t\t\telement.parentNode.removeChild(element);\n",
       "\t\t\t\t}\n",
       "\t\t\t\telement = document.createElement('div');\n",
       "\t\t\t\telement.innerHTML = '<div id=\"NetworKit_Overlay_Toolbar_Top\"><div class=\"button icon-close\" id=\"NetworKit_Overlay_Close\" /></div><div id=\"NetworKit_Overlay_Title\" /> <div id=\"NetworKit_Overlay_ImageContainer\"> <div id=\"NetworKit_Overlay_Image\" /> </div> <div id=\"NetworKit_Overlay_Toolbar_Bottom\"> <div class=\"button icon-previous\" onclick=\"NetworKit_overlayImageShift(-1)\" /> <div class=\"button icon-next\" onclick=\"NetworKit_overlayImageShift(1)\" /> <a id=\"NetworKit_Overlay_Toolbar_Bottom_Save\"><div class=\"button icon-save\" /></a> </div>';\n",
       "\t\t\t\telement.setAttribute('id', 'NetworKit_Overlay');\n",
       "\t\t\t\tdocument.body.appendChild(element);\n",
       "\t\t\t\tdocument.getElementById('NetworKit_Overlay_Close').onclick = function (e) {\n",
       "\t\t\t\t\tdocument.getElementById('NetworKit_Overlay').style.display = 'none';\n",
       "\t\t\t\t}\n",
       "\t\t\t}\n",
       "\t\t\n",
       "\t\t\t-->\n",
       "\t\t\t</script>\n",
       "\t\t"
      ]
     },
     "metadata": {},
     "output_type": "display_data"
    }
   ],
   "source": [
    "import pandas as pd\n",
    "import numpy as np\n",
    "import random\n",
    "import matplotlib.pyplot as plt\n",
    "import datetime as datetime\n",
    "import os\n",
    "from IPython.display import display, HTML\n",
    "from math import isclose\n",
    "from collections import Counter\n",
    "import multiprocessing\n",
    "\n",
    "# Network libary\n",
    "from graph_tool.all import *\n",
    "import networkx as nx\n",
    "import networkit as nk\n",
    "\n",
    "# sklearn\n",
    "from sklearn.model_selection import train_test_split\n",
    "from sklearn.metrics import roc_auc_score\n",
    "from sklearn.preprocessing import StandardScaler\n",
    "from sklearn import metrics\n",
    "from sklearn.metrics import average_precision_score, precision_recall_curve"
   ]
  },
  {
   "cell_type": "code",
   "execution_count": null,
   "id": "94063d92",
   "metadata": {},
   "outputs": [],
   "source": []
  },
  {
   "cell_type": "markdown",
   "id": "a0e67ec4",
   "metadata": {},
   "source": [
    "# Load train and test dataset"
   ]
  },
  {
   "cell_type": "code",
   "execution_count": 2,
   "id": "11a9ea61",
   "metadata": {},
   "outputs": [
    {
     "name": "stdout",
     "output_type": "stream",
     "text": [
      "['arr_0', 'arr_1', 'arr_2', 'arr_3', 'arr_4', 'arr_5', 'arr_6']\n"
     ]
    }
   ],
   "source": [
    "loaded = np.load(\"./tables/enron_staticlinkpred.npz\",allow_pickle=True)\n",
    "print(loaded.files)\n",
    "\n",
    "edges_train = loaded[\"arr_0\"]\n",
    "labels_train = loaded[\"arr_1\"]\n",
    "edges_valid = loaded[\"arr_2\"]\n",
    "labels_valid = loaded[\"arr_3\"]\n",
    "edges_test = loaded[\"arr_4\"]\n",
    "labels_test = loaded[\"arr_5\"]\n",
    "df_node2cnt = pd.DataFrame(loaded[\"arr_6\"])\n",
    "df_node2cnt.columns = [\"node\",\"cnt\"]\n",
    "df_train_0 = pd.DataFrame(edges_train)\n",
    "df_train_0[2] = labels_train\n",
    "cond = df_train_0[2] == 1\n",
    "df_train_1 = df_train_0.loc[cond].copy()\n",
    "df_train = df_train_1[[0,1]].copy()\n",
    "df_train.columns = [\"source\",\"target\"]\n",
    "df_train_0.columns = [\"source\",\"target\",\"label\"]\n",
    "\n",
    "df_valid_0 = pd.DataFrame(edges_valid)\n",
    "df_valid_0[2] = labels_valid\n",
    "cond = df_valid_0[2] == 1\n",
    "df_valid_1 = df_valid_0.loc[cond].copy()\n",
    "df_valid = df_valid_1[[0,1]].copy()\n",
    "df_valid.columns = [\"source\",\"target\"]\n",
    "df_valid_0.columns = [\"source\",\"target\",\"label\"]\n",
    "\n",
    "\n",
    "df_test_0 = pd.DataFrame(edges_test)\n",
    "df_test_0[2] = labels_test\n",
    "cond = df_test_0[2] == 1\n",
    "df_test_1 = df_test_0.loc[cond].copy()\n",
    "df_test = df_test_1[[0,1]].copy()\n",
    "df_test.columns = [\"source\",\"target\"]\n",
    "df_test_0.columns = [\"source\",\"target\",\"label\"]\n"
   ]
  },
  {
   "cell_type": "code",
   "execution_count": null,
   "id": "56a73898",
   "metadata": {},
   "outputs": [],
   "source": []
  },
  {
   "cell_type": "markdown",
   "id": "4bfcc861",
   "metadata": {},
   "source": [
    "# Transductive => so we know that evey nodes are in the train set"
   ]
  },
  {
   "cell_type": "code",
   "execution_count": 3,
   "id": "a1431982",
   "metadata": {},
   "outputs": [],
   "source": [
    "out_tr,out_te = [],[]\n",
    "    \n",
    "uni_nodes = list(set(df_train[\"source\"]))\n",
    "uni_nodes.extend(list(set(df_train[\"target\"])))\n",
    "uni_nodes = list(set(uni_nodes))\n",
    "    \n",
    "node2index = dict()\n",
    "for i in range(len(uni_nodes)):\n",
    "    node2index.update({uni_nodes[i]:i})\n",
    "\n",
    "for i in range(len(df_train)):\n",
    "    source_index = node2index[df_train[\"source\"].iloc[i]]\n",
    "    target_index = node2index[df_train[\"target\"].iloc[i]]\n",
    "    out_tr.append([source_index,target_index])\n",
    "        \n",
    "for i in range(len(df_test)):\n",
    "    source_index = node2index[df_test[\"source\"].iloc[i]]\n",
    "    target_index = node2index[df_test[\"target\"].iloc[i]]\n",
    "    out_te.append([source_index,target_index])\n",
    "    \n",
    "df_train_index = pd.DataFrame(out_tr)\n",
    "df_test_index = pd.DataFrame(out_te)\n",
    "df_train_index.columns = [\"source\",\"target\"]\n",
    "df_test_index.columns = [\"source\",\"target\"]"
   ]
  },
  {
   "cell_type": "code",
   "execution_count": null,
   "id": "8e5de7ae",
   "metadata": {},
   "outputs": [],
   "source": []
  },
  {
   "cell_type": "markdown",
   "id": "d48f967d",
   "metadata": {},
   "source": [
    "# Networkx object"
   ]
  },
  {
   "cell_type": "code",
   "execution_count": 4,
   "id": "3dc82521",
   "metadata": {},
   "outputs": [],
   "source": [
    "G = nx.Graph()\n",
    "out_tr = []\n",
    "for i in range(len(df_train_index)):\n",
    "    s = df_train_index[\"source\"].iloc[i]\n",
    "    t = df_train_index[\"target\"].iloc[i]\n",
    "    out_tr.append((s, t))\n",
    "    \n",
    "out_te = []\n",
    "for i in range(len(edges_test)):\n",
    "    s = node2index[edges_test[i][0]]\n",
    "    t = node2index[edges_test[i][1]]\n",
    "    out_te.append((s, t))\n",
    "    \n",
    "G = nx.Graph()\n",
    "G.add_edges_from(out_tr)\n"
   ]
  },
  {
   "cell_type": "code",
   "execution_count": null,
   "id": "89aeb605",
   "metadata": {},
   "outputs": [],
   "source": []
  },
  {
   "cell_type": "markdown",
   "id": "b205132c",
   "metadata": {},
   "source": [
    "# Cacluate elementary methods"
   ]
  },
  {
   "cell_type": "code",
   "execution_count": 5,
   "id": "100006b8",
   "metadata": {},
   "outputs": [
    {
     "name": "stdout",
     "output_type": "stream",
     "text": [
      "adamic\n",
      "0.8860603412338461\n",
      "0.6708663527334671\n",
      "====\n",
      "resource allocation\n",
      "0.8908167211616216\n",
      "0.6806082813986878\n",
      "====\n",
      "Jaccard Coefficient\n",
      "0.8520248517084295\n",
      "0.5462805672312934\n",
      "====\n",
      "Preferential\n",
      "0.7525213333936042\n",
      "0.4813630636617093\n",
      "====\n"
     ]
    }
   ],
   "source": [
    "for kkk in range(1,5):\n",
    "    # 1:\"adamic\", 2:\"resource\",3:\"jaccard\",4:\"preferential\"\n",
    "    model_type = kkk\n",
    "\n",
    "    if model_type == 1:\n",
    "        preds = nx.adamic_adar_index(G, out_te)\n",
    "        model_name = \"adamic\"\n",
    "    elif model_type == 2:\n",
    "        preds = nx.resource_allocation_index(G,out_te)\n",
    "        model_name = \"resource allocation\"\n",
    "    elif model_type == 3:\n",
    "        preds = nx.jaccard_coefficient(G, out_te)\n",
    "        model_name = \"Jaccard Coefficient\"\n",
    "    elif model_type==4:\n",
    "        preds = nx.preferential_attachment(G,out_te)\n",
    "        model_name = \"Preferential\"\n",
    "    prediction = []\n",
    "    for u, v, p in preds:\n",
    "        prediction.append(p)\n",
    "\n",
    "    print(model_name)\n",
    "    fpr, tpr, thresholds = metrics.roc_curve(labels_test, prediction)\n",
    "    auc = metrics.auc(fpr, tpr)\n",
    "    print(auc)\n",
    "    # Data to plot precision - recall curve\n",
    "    precision, recall, thresholds = precision_recall_curve(labels_test, prediction)\n",
    "    # Use AUC function to calculate the area under the curve of precision recall curve\n",
    "    auc_precision_recall = metrics.auc(recall, precision)\n",
    "    print(auc_precision_recall)\n",
    "    print(\"====\")"
   ]
  },
  {
   "cell_type": "code",
   "execution_count": null,
   "id": "7dc63667",
   "metadata": {},
   "outputs": [],
   "source": []
  },
  {
   "cell_type": "markdown",
   "id": "7fdc4433",
   "metadata": {},
   "source": [
    "# AU-ROC and AUC-PR"
   ]
  },
  {
   "cell_type": "code",
   "execution_count": 6,
   "id": "b59ee022",
   "metadata": {},
   "outputs": [
    {
     "name": "stderr",
     "output_type": "stream",
     "text": [
      "No artists with labels found to put in legend.  Note that artists whose label start with an underscore are ignored when legend() is called with no argument.\n",
      "No artists with labels found to put in legend.  Note that artists whose label start with an underscore are ignored when legend() is called with no argument.\n"
     ]
    },
    {
     "data": {
      "text/plain": [
       "<matplotlib.legend.Legend at 0x150cad7c3a60>"
      ]
     },
     "execution_count": 6,
     "metadata": {},
     "output_type": "execute_result"
    },
    {
     "data": {
      "image/png": "[encoded data removed]",
      "text/plain": [
       "<Figure size 1200x600 with 2 Axes>"
      ]
     },
     "metadata": {},
     "output_type": "display_data"
    }
   ],
   "source": [
    "plt.figure(figsize=(12, 6))\n",
    "plt.subplot(1, 2, 1)\n",
    "plt.plot(fpr, tpr, color='darkorange', lw=2)\n",
    "plt.plot([0, 1], [0, 1], color='navy', lw=2, linestyle='--')\n",
    "plt.xlim([0.0, 1.0])\n",
    "plt.ylim([0.0, 1.05])\n",
    "plt.xlabel('False Positive Rate',size=16)\n",
    "plt.ylabel('True Positive Rate',size=16)\n",
    "plt.title('Receiver Operating Characteristic (ROC) Curve')\n",
    "plt.legend(loc=\"lower right\")\n",
    "\n",
    "\n",
    "plt.subplot(1, 2, 2)\n",
    "plt.plot(recall, precision, color='blue', lw=2)\n",
    "plt.xlim([0.0, 1.0])\n",
    "plt.ylim([0.0, 1.05])\n",
    "plt.xlabel('Recall',size=16)\n",
    "plt.ylabel('Precision',size=16)\n",
    "plt.title('Precision-Recall Curve')\n",
    "plt.legend(loc=\"lower left\")"
   ]
  },
  {
   "cell_type": "code",
   "execution_count": null,
   "id": "1aa94582",
   "metadata": {},
   "outputs": [],
   "source": []
  },
  {
   "cell_type": "code",
   "execution_count": null,
   "id": "032a494f",
   "metadata": {},
   "outputs": [],
   "source": []
  },
  {
   "cell_type": "code",
   "execution_count": null,
   "id": "63c75278",
   "metadata": {},
   "outputs": [],
   "source": []
  },
  {
   "cell_type": "markdown",
   "id": "9cf947d8",
   "metadata": {},
   "source": [
    "# Stochastic Block Model"
   ]
  },
  {
   "cell_type": "code",
   "execution_count": 7,
   "id": "0c7c0456",
   "metadata": {},
   "outputs": [],
   "source": [
    "# Create graph-tool object\n",
    "g = Graph()\n",
    "\n",
    "uni_nodes = list(set(df_train[\"source\"]))\n",
    "uni_nodes.extend(list(set(df_train[\"target\"])))\n",
    "uni_nodes = list(set(uni_nodes))\n",
    "    \n",
    "node2index = dict()\n",
    "for i in range(len(uni_nodes)):\n",
    "    node2index.update({uni_nodes[i]:i})\n",
    "    \n",
    "\n",
    "g.add_vertex(len(uni_nodes))\n",
    "weight = g.new_edge_property(\"double\")\n",
    "\n",
    "# Put train data\n",
    "for i in range(len(df_train)):\n",
    "    source_index = node2index[df_train[\"source\"].iloc[i]]\n",
    "    target_index = node2index[df_train[\"target\"].iloc[i]]\n",
    "    e = g.add_edge(g.vertex(source_index),g.vertex(target_index))\n",
    "    e = g.add_edge(g.vertex(target_index),g.vertex(source_index))\n",
    "    weight[e] = 1  \n",
    "    \n",
    "g.edge_properties[\"weight\"] = weight"
   ]
  },
  {
   "cell_type": "markdown",
   "id": "04f0b312",
   "metadata": {},
   "source": [
    "# Infer SBM"
   ]
  },
  {
   "cell_type": "code",
   "execution_count": 8,
   "id": "1725088b",
   "metadata": {},
   "outputs": [
    {
     "name": "stdout",
     "output_type": "stream",
     "text": [
      "CPU times: user 22 s, sys: 0 ns, total: 22 s\n",
      "Wall time: 474 ms\n"
     ]
    }
   ],
   "source": [
    "%%time\n",
    "state = minimize_blockmodel_dl(g,deg_corr=False)"
   ]
  },
  {
   "cell_type": "code",
   "execution_count": null,
   "id": "0d340608",
   "metadata": {},
   "outputs": [],
   "source": []
  },
  {
   "cell_type": "code",
   "execution_count": null,
   "id": "a629363d",
   "metadata": {},
   "outputs": [],
   "source": []
  },
  {
   "cell_type": "markdown",
   "id": "d84efa2b",
   "metadata": {},
   "source": [
    "# Collect edge_test probabilities"
   ]
  },
  {
   "cell_type": "code",
   "execution_count": 9,
   "id": "2df23878",
   "metadata": {},
   "outputs": [],
   "source": [
    "missing_edges = []\n",
    "#for i in range(num_test):\n",
    "for i in range(len(edges_test)):\n",
    "    missing_edges.append((node2index[edges_test[i][0]],node2index[edges_test[i][1]]))\n",
    "\n",
    "probs = [[] for _ in range(len(edges_test))]\n",
    "def collect_edge_probs(s):\n",
    "    for i in range(len(edges_test)):\n",
    "        p1 = s.get_edges_prob([missing_edges[i]], entropy_args=dict(partition_dl=False))\n",
    "        probs[i].append(p1)\n",
    "        \n",
    "def get_avg(p):\n",
    "    p = np.array(p)\n",
    "    pmax = p.max()\n",
    "    p -= pmax\n",
    "    return pmax + np.log(np.exp(p).mean())"
   ]
  },
  {
   "cell_type": "code",
   "execution_count": 10,
   "id": "ab6108b2",
   "metadata": {},
   "outputs": [
    {
     "name": "stdout",
     "output_type": "stream",
     "text": [
      "niter:     1  count:    0  breaks:  0  min_S: 7474.5823  max_S: 7476.0397  S: 7476.0397  ΔS:      1.45741  moves:   591 \n",
      "niter:     2  count:    0  breaks:  0  min_S: 7474.5823  max_S: 7477.8844  S: 7477.8844  ΔS:      1.84462  moves:   463 \n",
      "niter:     3  count:    0  breaks:  0  min_S: 7473.4269  max_S: 7477.8844  S: 7473.4269  ΔS:     -4.45750  moves:   469 \n",
      "niter:     4  count:    0  breaks:  0  min_S: 7473.4269  max_S: 7477.8844  S: 7474.4749  ΔS:      1.04807  moves:   701 \n",
      "niter:     5  count:    0  breaks:  0  min_S: 7473.4269  max_S: 7485.1113  S: 7485.1113  ΔS:      10.6363  moves:   751 \n",
      "niter:     6  count:    0  breaks:  0  min_S: 7473.4269  max_S: 7488.4208  S: 7488.4208  ΔS:      3.30950  moves:   632 \n",
      "niter:     7  count:    0  breaks:  0  min_S: 7473.4269  max_S: 7488.4208  S: 7487.8235  ΔS:    -0.597231  moves:   756 \n",
      "niter:     8  count:    0  breaks:  0  min_S: 7473.4269  max_S: 7495.2376  S: 7495.2376  ΔS:      7.41412  moves:   916 \n",
      "niter:     9  count:    0  breaks:  0  min_S: 7473.4269  max_S: 7495.2376  S: 7475.8715  ΔS:     -19.3661  moves:   612 \n",
      "CPU times: user 8.01 s, sys: 0 ns, total: 8.01 s\n",
      "Wall time: 8 s\n"
     ]
    },
    {
     "data": {
      "text/plain": [
       "(7481.59164972676, 42999, 6501)"
      ]
     },
     "execution_count": 10,
     "metadata": {},
     "output_type": "execute_result"
    }
   ],
   "source": [
    "%%time\n",
    "# Now we collect the probabilities for exactly 100,000 sweeps\n",
    "mcmc_equilibrate(state, force_niter=10, mcmc_args=dict(niter=10),\n",
    "                    callback=collect_edge_probs,verbose=True)"
   ]
  },
  {
   "cell_type": "code",
   "execution_count": 11,
   "id": "815be10d",
   "metadata": {},
   "outputs": [],
   "source": [
    "p_out = []\n",
    "for i in range(len(probs)):\n",
    "    p1 = get_avg(probs[i])\n",
    "    p_out.append(p1)\n",
    "p_sum = get_avg(p_out) + np.log(2)\n",
    "\n",
    "prediction = []\n",
    "for i in range(len(p_out)):\n",
    "    prediction.append(np.exp(p_out[i] - p_sum))"
   ]
  },
  {
   "cell_type": "code",
   "execution_count": null,
   "id": "4f7f0fde",
   "metadata": {},
   "outputs": [],
   "source": []
  },
  {
   "cell_type": "markdown",
   "id": "c08fe420",
   "metadata": {},
   "source": [
    "# Evaluation"
   ]
  },
  {
   "cell_type": "code",
   "execution_count": 12,
   "id": "4c9c1a96",
   "metadata": {},
   "outputs": [
    {
     "name": "stdout",
     "output_type": "stream",
     "text": [
      "0.858883807715682\n",
      "0.5926014659305223\n"
     ]
    }
   ],
   "source": [
    "fpr, tpr, thresholds = metrics.roc_curve(labels_test, prediction)\n",
    "auc = metrics.auc(fpr, tpr)\n",
    "print(auc)\n",
    "# Average precision score\n",
    "average_precision = average_precision_score(labels_test, prediction)\n",
    "print(average_precision)\n",
    "# Data to plot precision - recall curve\n",
    "precision, recall, thresholds = precision_recall_curve(labels_test, prediction)\n",
    "# Use AUC function to calculate the area under the curve of precision recall curve\n"
   ]
  },
  {
   "cell_type": "code",
   "execution_count": null,
   "id": "91de8cce",
   "metadata": {},
   "outputs": [],
   "source": []
  },
  {
   "cell_type": "code",
   "execution_count": null,
   "id": "d889a644",
   "metadata": {},
   "outputs": [],
   "source": []
  },
  {
   "cell_type": "code",
   "execution_count": null,
   "id": "66df91e6",
   "metadata": {},
   "outputs": [],
   "source": []
  },
  {
   "cell_type": "code",
   "execution_count": null,
   "id": "0262fe69",
   "metadata": {},
   "outputs": [],
   "source": []
  },
  {
   "cell_type": "code",
   "execution_count": null,
   "id": "b0b2a819",
   "metadata": {},
   "outputs": [],
   "source": []
  }
 ],
 "metadata": {
  "kernelspec": {
   "display_name": "Python 3 (ipykernel)",
   "language": "python",
   "name": "python3"
  },
  "language_info": {
   "codemirror_mode": {
    "name": "ipython",
    "version": 3
   },
   "file_extension": ".py",
   "mimetype": "text/x-python",
   "name": "python",
   "nbconvert_exporter": "python",
   "pygments_lexer": "ipython3",
   "version": "3.8.0"
  }
 },
 "nbformat": 4,
 "nbformat_minor": 5
}
