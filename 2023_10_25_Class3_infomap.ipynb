{
 "cells": [
  {
   "cell_type": "markdown",
   "id": "410c36a9",
   "metadata": {},
   "source": [
    "# Module"
   ]
  },
  {
   "cell_type": "code",
   "execution_count": 2,
   "id": "8ddeccfc",
   "metadata": {},
   "outputs": [
    {
     "name": "stdout",
     "output_type": "stream",
     "text": [
      "['blogcatalog', 'homosapiens', 'wikipos', 'enron', 'unvote', 'untrade', 'uslegis_net', 'uslegis_net_small_dyn', 'uslegis_net_dyn', 'uslegis_hyp_dyn', 'contacts', 'dawn_net', 'dawn_hyp', 'ndc_net', 'ndc_hyp', 'coauth_dblp_net', 'coauth_dblp_hyp', 'wiod2016', 'wiod2013', 'wiodlong', 'eth', 'bitcoinalpha', 'bitcoinotc', 'uscourt']\n",
      "We are going to use: enron\n"
     ]
    }
   ],
   "source": [
    "# From the repository\n",
    "from util import *\n",
    "from read_data import *\n",
    "data_names = list(name2file_name.keys())\n",
    "print(data_names)\n",
    "\n",
    "# Basic modules\n",
    "import os\n",
    "import glob\n",
    "import networkx as nx\n",
    "import numpy as np\n",
    "import pandas as pd\n",
    "import matplotlib.pyplot as plt\n",
    "import seaborn as sns\n",
    "from infomap import Infomap\n",
    "\n",
    "\n",
    "#name = \"wiod2016\"\n",
    "name = data_names[3]\n",
    "print(\"We are going to use: \" + name)\n",
    "# Enable original_format to use the format as originally provided\n",
    "data_dict = get_data(name,original_format=False)\n",
    "data_dict.keys()\n",
    "#df_nodes = data_dict[\"df_nodes\"]\n",
    "df_edges = data_dict[\"df_edges\"]"
   ]
  },
  {
   "cell_type": "code",
   "execution_count": null,
   "id": "3e84c8ac",
   "metadata": {},
   "outputs": [],
   "source": []
  },
  {
   "cell_type": "markdown",
   "id": "15b2bba6",
   "metadata": {},
   "source": [
    "# Get rid of duplicates"
   ]
  },
  {
   "cell_type": "code",
   "execution_count": 3,
   "id": "7a690652",
   "metadata": {},
   "outputs": [],
   "source": [
    "df_edges = df_edges[[\"source\",\"target\"]].copy()\n",
    "df_edges.drop_duplicates(inplace=True)"
   ]
  },
  {
   "cell_type": "code",
   "execution_count": null,
   "id": "1851e17e",
   "metadata": {},
   "outputs": [],
   "source": []
  },
  {
   "cell_type": "markdown",
   "id": "81bc1866",
   "metadata": {},
   "source": [
    "# Infomap"
   ]
  },
  {
   "cell_type": "code",
   "execution_count": 4,
   "id": "d8205064",
   "metadata": {},
   "outputs": [],
   "source": [
    "im = Infomap(\"--two-level --directed\")"
   ]
  },
  {
   "cell_type": "code",
   "execution_count": 5,
   "id": "78b59e23",
   "metadata": {},
   "outputs": [],
   "source": [
    "for i in range(len(df_edges)):\n",
    "    if df_edges[\"source\"].iloc[i] != df_edges[\"target\"].iloc[i]:\n",
    "        im.add_link(df_edges[\"source\"].iloc[i],df_edges[\"target\"].iloc[i])"
   ]
  },
  {
   "cell_type": "code",
   "execution_count": 6,
   "id": "f3c18515",
   "metadata": {},
   "outputs": [
    {
     "name": "stdout",
     "output_type": "stream",
     "text": [
      "=======================================================\n",
      "  Infomap v2.7.1 starts at 2023-10-19 23:38:19\n",
      "  -> Input network: \n",
      "  -> No file output!\n",
      "  -> Configuration: two-level\n",
      "                    directed\n",
      "=======================================================\n",
      "  OpenMP 201511 detected with 72 threads...\n",
      "  -> Ordinary network input, using the Map Equation for first order network flows\n",
      "Calculating global network flow using flow model 'directed'... CPU times: user 2.51 s, sys: 0 ns, total: 2.51 s\n",
      "Wall time: 39.4 ms\n",
      "\n",
      "  -> Using unrecorded teleportation to links. \n",
      "  -> PageRank calculation done in 200 iterations.\n",
      "\n",
      "  => Sum node flow: 1, sum link flow: 1\n",
      "Build internal network with 182 nodes and 3007 links...\n",
      "  -> One-level codelength: 7.23652232\n",
      "\n",
      "================================================\n",
      "Trial 1/1 starting at 2023-10-19 23:38:19\n",
      "================================================\n",
      "Two-level compression: 4.3% 1.4% "
     ]
    }
   ],
   "source": [
    "%%time\n",
    "im.run()"
   ]
  },
  {
   "cell_type": "code",
   "execution_count": 7,
   "id": "6cf36fe3",
   "metadata": {},
   "outputs": [
    {
     "name": "stdout",
     "output_type": "stream",
     "text": [
      "Found 9 modules with codelength: 6.823336260489542\n",
      "Result\n",
      "\n",
      "#node module\n"
     ]
    }
   ],
   "source": [
    "print(f\"Found {im.num_top_modules} modules with codelength: {im.codelength}\")\n",
    "\n",
    "print(\"Result\")\n",
    "print(\"\\n#node module\")\n",
    "out = []\n",
    "for node in im.tree:\n",
    "    if node.is_leaf:\n",
    "        out.append([node.node_id,node.module_id])"
   ]
  },
  {
   "cell_type": "code",
   "execution_count": null,
   "id": "d15b7896",
   "metadata": {},
   "outputs": [],
   "source": []
  },
  {
   "cell_type": "markdown",
   "id": "e4177260",
   "metadata": {},
   "source": [
    "# Write results"
   ]
  },
  {
   "cell_type": "code",
   "execution_count": 9,
   "id": "ddb395db",
   "metadata": {},
   "outputs": [],
   "source": [
    "df_info = pd.DataFrame(out)\n",
    "df_info.columns = [\"Id\",\"info_group\"]"
   ]
  },
  {
   "cell_type": "code",
   "execution_count": 10,
   "id": "4673dc76",
   "metadata": {},
   "outputs": [],
   "source": [
    "df_info.to_csv(\"./tables/df_info.csv\",index=False)"
   ]
  },
  {
   "cell_type": "code",
   "execution_count": null,
   "id": "c53155dd",
   "metadata": {},
   "outputs": [],
   "source": []
  },
  {
   "cell_type": "code",
   "execution_count": null,
   "id": "68b63c02",
   "metadata": {},
   "outputs": [],
   "source": []
  }
 ],
 "metadata": {
  "kernelspec": {
   "display_name": "Python 3 (ipykernel)",
   "language": "python",
   "name": "python3"
  },
  "language_info": {
   "codemirror_mode": {
    "name": "ipython",
    "version": 3
   },
   "file_extension": ".py",
   "mimetype": "text/x-python",
   "name": "python",
   "nbconvert_exporter": "python",
   "pygments_lexer": "ipython3",
   "version": "3.8.0"
  }
 },
 "nbformat": 4,
 "nbformat_minor": 5
}
