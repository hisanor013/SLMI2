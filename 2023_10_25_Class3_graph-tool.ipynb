{
 "cells": [
  {
   "cell_type": "markdown",
   "id": "40248900",
   "metadata": {},
   "source": [
    "# Module"
   ]
  },
  {
   "cell_type": "code",
   "execution_count": 17,
   "id": "8ddeccfc",
   "metadata": {},
   "outputs": [
    {
     "name": "stdout",
     "output_type": "stream",
     "text": [
      "['blogcatalog', 'homosapiens', 'wikipos', 'enron', 'unvote', 'untrade', 'uslegis_net', 'uslegis_net_small_dyn', 'uslegis_net_dyn', 'uslegis_hyp_dyn', 'contacts', 'dawn_net', 'dawn_hyp', 'ndc_net', 'ndc_hyp', 'coauth_dblp_net', 'coauth_dblp_hyp', 'wiod2016', 'wiod2013', 'wiodlong', 'eth', 'bitcoinalpha', 'bitcoinotc', 'uscourt']\n",
      "We are going to use: enron\n"
     ]
    }
   ],
   "source": [
    "# From the repository\n",
    "from util import *\n",
    "from read_data import *\n",
    "data_names = list(name2file_name.keys())\n",
    "print(data_names)\n",
    "\n",
    "# Basic modules\n",
    "import os\n",
    "import glob\n",
    "import networkx as nx\n",
    "import numpy as np\n",
    "import pandas as pd\n",
    "import matplotlib.pyplot as plt\n",
    "import seaborn as sns\n",
    "from graph_tool.all import *\n",
    "\n",
    "#name = \"wiod2016\"\n",
    "name = data_names[3]\n",
    "print(\"We are going to use: \" + name)\n",
    "# Enable original_format to use the format as originally provided\n",
    "data_dict = get_data(name,original_format=False)\n",
    "data_dict.keys()\n",
    "#df_nodes = data_dict[\"df_nodes\"]\n",
    "df_edges = data_dict[\"df_edges\"]\n",
    "\n",
    "df_edges = df_edges[[\"source\",\"target\"]].drop_duplicates()\n",
    "cond = df_edges[\"source\"] != df_edges[\"target\"]\n",
    "df_edges = df_edges.loc[cond].copy()"
   ]
  },
  {
   "cell_type": "code",
   "execution_count": null,
   "id": "1b9a6d6d",
   "metadata": {},
   "outputs": [],
   "source": []
  },
  {
   "cell_type": "code",
   "execution_count": null,
   "id": "668c84df",
   "metadata": {},
   "outputs": [],
   "source": []
  },
  {
   "cell_type": "code",
   "execution_count": null,
   "id": "0884f4d8",
   "metadata": {},
   "outputs": [],
   "source": []
  },
  {
   "cell_type": "markdown",
   "id": "97b61c05",
   "metadata": {},
   "source": [
    "# Create graph object"
   ]
  },
  {
   "cell_type": "code",
   "execution_count": 18,
   "id": "0e159a8b",
   "metadata": {},
   "outputs": [],
   "source": [
    "g = Graph()"
   ]
  },
  {
   "cell_type": "code",
   "execution_count": 19,
   "id": "2411bb84",
   "metadata": {},
   "outputs": [],
   "source": [
    "# Want to rename nodes to index that starts with 0\n",
    "uni_nodes = list(set(df_edges[\"source\"]))\n",
    "uni_nodes.extend(list(set(df_edges[\"target\"])))\n",
    "uni_nodes = list(set(uni_nodes))  \n",
    "\n",
    "node2index = dict()\n",
    "for i in range(len(uni_nodes)):\n",
    "    node2index.update({uni_nodes[i]:i})\n",
    "    \n",
    "g.add_vertex(len(uni_nodes))\n",
    "weight = g.new_edge_property(\"double\")\n",
    "\n",
    "# add edges\n",
    "for i in range(len(df_edges)):\n",
    "    source_index = node2index[df_edges[\"source\"].iloc[i]]\n",
    "    target_index = node2index[df_edges[\"target\"].iloc[i]]\n",
    "    e = g.add_edge(g.vertex(source_index),g.vertex(target_index))\n",
    "    weight[e] = 1\n",
    "\n",
    "g.edge_properties[\"weight\"] = weight"
   ]
  },
  {
   "cell_type": "code",
   "execution_count": null,
   "id": "756ad5cf",
   "metadata": {},
   "outputs": [],
   "source": []
  },
  {
   "cell_type": "markdown",
   "id": "aa2e11c7",
   "metadata": {},
   "source": [
    "# Approximation but it works well"
   ]
  },
  {
   "cell_type": "code",
   "execution_count": 20,
   "id": "c733a53a",
   "metadata": {},
   "outputs": [
    {
     "name": "stdout",
     "output_type": "stream",
     "text": [
      "Non-degree-corrected DL:\t 7733.478574577481\n",
      "Degree-corrected DL:\t 7736.433947096408\n",
      "CPU times: user 1min 56s, sys: 344 ms, total: 1min 56s\n",
      "Wall time: 2.18 s\n"
     ]
    }
   ],
   "source": [
    "%%time\n",
    "state_ndc = minimize_blockmodel_dl(g, state_args=dict(deg_corr=False))\n",
    "state_dc  = minimize_blockmodel_dl(g, state_args=dict(deg_corr=True))\n",
    "\n",
    "print(\"Non-degree-corrected DL:\\t\", state_ndc.entropy())\n",
    "print(\"Degree-corrected DL:\\t\", state_dc.entropy())"
   ]
  },
  {
   "cell_type": "code",
   "execution_count": null,
   "id": "ea785f55",
   "metadata": {},
   "outputs": [],
   "source": []
  },
  {
   "cell_type": "markdown",
   "id": "e7fa3705",
   "metadata": {},
   "source": [
    "# Refinements using merge-split MCMC"
   ]
  },
  {
   "cell_type": "code",
   "execution_count": 21,
   "id": "8daf74e4",
   "metadata": {},
   "outputs": [
    {
     "name": "stdout",
     "output_type": "stream",
     "text": [
      "Improvement: -12.197947184529767\n",
      "CPU times: user 16.1 s, sys: 14.9 ms, total: 16.1 s\n",
      "Wall time: 16.1 s\n"
     ]
    }
   ],
   "source": [
    "%%time\n",
    "S1 = state_ndc.entropy()\n",
    "\n",
    "for i in range(1000): # this should be sufficiently large\n",
    "    state_ndc.multiflip_mcmc_sweep(beta=np.inf, niter=10)\n",
    "\n",
    "S2 = state_ndc.entropy()\n",
    "\n",
    "print(\"Improvement:\", S2 - S1)"
   ]
  },
  {
   "cell_type": "code",
   "execution_count": 22,
   "id": "f77f7aeb",
   "metadata": {},
   "outputs": [
    {
     "name": "stdout",
     "output_type": "stream",
     "text": [
      "CPU times: user 10 µs, sys: 0 ns, total: 10 µs\n",
      "Wall time: 18.8 µs\n"
     ]
    }
   ],
   "source": [
    "%%time\n",
    "# All use this\n",
    "#mcmc_equilibrate(state_ndc, wait=1000, nbreaks=2, mcmc_args=dict(niter=10))"
   ]
  },
  {
   "cell_type": "code",
   "execution_count": null,
   "id": "275f7b3f",
   "metadata": {},
   "outputs": [],
   "source": []
  },
  {
   "cell_type": "markdown",
   "id": "1df9d923",
   "metadata": {},
   "source": [
    "# Get block assignments"
   ]
  },
  {
   "cell_type": "code",
   "execution_count": 23,
   "id": "86109d83",
   "metadata": {},
   "outputs": [],
   "source": [
    "b = state_ndc.get_blocks()\n",
    "#B0 = state_ndc.get_matrix()"
   ]
  },
  {
   "cell_type": "code",
   "execution_count": 24,
   "id": "87ef52a2",
   "metadata": {},
   "outputs": [],
   "source": [
    "df_nodes = pd.DataFrame(node2index.items())\n",
    "df_nodes.columns = [\"nodes\",\"index\"]\n",
    "out = []\n",
    "for i in range(len(df_nodes)):\n",
    "    ind = df_nodes[\"index\"].iloc[i]\n",
    "    out.append(b[ind])\n",
    "    \n",
    "df_nodes[\"sbm\"] = out"
   ]
  },
  {
   "cell_type": "code",
   "execution_count": null,
   "id": "2537b0c6",
   "metadata": {},
   "outputs": [],
   "source": []
  },
  {
   "cell_type": "markdown",
   "id": "84c0df68",
   "metadata": {},
   "source": [
    "# Result"
   ]
  },
  {
   "cell_type": "code",
   "execution_count": 25,
   "id": "f4ea0fa4",
   "metadata": {},
   "outputs": [
    {
     "data": {
      "text/plain": [
       "sbm\n",
       "7     35\n",
       "4     22\n",
       "11    17\n",
       "6     16\n",
       "10    16\n",
       "5     15\n",
       "0     14\n",
       "1     13\n",
       "8     11\n",
       "9      9\n",
       "3      8\n",
       "2      6\n",
       "Name: count, dtype: int64"
      ]
     },
     "execution_count": 25,
     "metadata": {},
     "output_type": "execute_result"
    }
   ],
   "source": [
    "df_nodes[\"sbm\"].value_counts()"
   ]
  },
  {
   "cell_type": "code",
   "execution_count": null,
   "id": "e3daffed",
   "metadata": {},
   "outputs": [],
   "source": []
  },
  {
   "cell_type": "code",
   "execution_count": null,
   "id": "b980ffca",
   "metadata": {},
   "outputs": [],
   "source": []
  },
  {
   "cell_type": "code",
   "execution_count": null,
   "id": "6f14b01d",
   "metadata": {},
   "outputs": [],
   "source": []
  },
  {
   "cell_type": "code",
   "execution_count": null,
   "id": "68b63c02",
   "metadata": {},
   "outputs": [],
   "source": []
  }
 ],
 "metadata": {
  "kernelspec": {
   "display_name": "Python 3 (ipykernel)",
   "language": "python",
   "name": "python3"
  },
  "language_info": {
   "codemirror_mode": {
    "name": "ipython",
    "version": 3
   },
   "file_extension": ".py",
   "mimetype": "text/x-python",
   "name": "python",
   "nbconvert_exporter": "python",
   "pygments_lexer": "ipython3",
   "version": "3.8.0"
  }
 },
 "nbformat": 4,
 "nbformat_minor": 5
}
