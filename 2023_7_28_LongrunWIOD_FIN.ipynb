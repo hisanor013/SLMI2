{
 "cells": [
  {
   "cell_type": "markdown",
   "id": "b0767244",
   "metadata": {},
   "source": [
    "# Load WIOT"
   ]
  },
  {
   "cell_type": "code",
   "execution_count": 1,
   "id": "000b3de0",
   "metadata": {},
   "outputs": [
    {
     "name": "stdout",
     "output_type": "stream",
     "text": [
      "/home/rh/Arbeitsraum/Files/LongrunWIOD\n"
     ]
    }
   ],
   "source": [
    "cd /home/rh/Arbeitsraum/Files/LongrunWIOD/"
   ]
  },
  {
   "cell_type": "code",
   "execution_count": 2,
   "id": "6f82772e",
   "metadata": {},
   "outputs": [],
   "source": [
    "import pandas as pd\n",
    "import glob\n",
    "\n",
    "df = pd.read_excel(\"lr_wiod_wiot_wide.xlsx\",sheet_name=\"data\")\n",
    "\n",
    "df_col = pd.DataFrame(df.columns[3:])\n",
    "df_col.columns = [\"node\"]\n",
    "\n",
    "out = []\n",
    "for i in range(len(df)):\n",
    "    tmp = df[\"row_country\"].iloc[i] + \"_\" + df[\"row_isic3\"].iloc[i]\n",
    "    out.append(tmp)\n",
    "    \n",
    "df_row = pd.DataFrame(list(set(out)))\n",
    "df_row.columns = [\"node\"]"
   ]
  },
  {
   "cell_type": "code",
   "execution_count": null,
   "id": "bb23b4f4",
   "metadata": {},
   "outputs": [],
   "source": []
  },
  {
   "cell_type": "code",
   "execution_count": null,
   "id": "775d9161",
   "metadata": {},
   "outputs": [],
   "source": []
  },
  {
   "cell_type": "markdown",
   "id": "f345fc29",
   "metadata": {},
   "source": [
    "# Create Edgelist"
   ]
  },
  {
   "cell_type": "code",
   "execution_count": 3,
   "id": "bda1c7c8",
   "metadata": {},
   "outputs": [
    {
     "name": "stdout",
     "output_type": "stream",
     "text": [
      "0\n",
      "1000\n",
      "2000\n",
      "3000\n",
      "4000\n",
      "5000\n",
      "6000\n",
      "7000\n",
      "8000\n",
      "9000\n",
      "10000\n",
      "11000\n",
      "12000\n",
      "13000\n",
      "14000\n",
      "15000\n",
      "16000\n",
      "17000\n",
      "18000\n",
      "19000\n",
      "20000\n",
      "21000\n",
      "CPU times: user 13min 27s, sys: 4.58 s, total: 13min 32s\n",
      "Wall time: 13min 32s\n"
     ]
    }
   ],
   "source": [
    "%%time\n",
    "nodes = set(df_row[\"node\"])\n",
    "nodes = list(nodes.intersection(set(df_col[\"node\"])))\n",
    "nodes.sort()\n",
    "\n",
    "nodes_dict = dict()\n",
    "index2nodes = dict()\n",
    "for i in range(len(nodes)):\n",
    "    nodes_dict.update({nodes[i]:i})\n",
    "    index2nodes.update({i:nodes[i]})\n",
    "\n",
    "    \n",
    "df_index2nodes = pd.DataFrame(index2nodes.items())\n",
    "df_index2nodes.columns = [\"index\",\"name\"]\n",
    "    \n",
    "edges = []\n",
    "for i in range(len(df)):\n",
    "#for i in range(5):\n",
    "    if i % 1000 == 0:\n",
    "        print(i)\n",
    "    for j in range(3,len(df.columns)):\n",
    "        if df.columns[j] in nodes_dict:\n",
    "            tmp = df[\"row_country\"].iloc[i] + \"_\" + df[\"row_isic3\"].iloc[i]\n",
    "            if tmp in nodes_dict:\n",
    "                if df.iloc[i,j] > 0:\n",
    "                    send_index = nodes_dict[tmp]\n",
    "                    rece_index = nodes_dict[ df.columns[j]]\n",
    "                    edges.append([df[\"year\"].iloc[i],send_index,rece_index,df.iloc[i,j]])\n",
    "df_edges = pd.DataFrame(edges)\n",
    "\n",
    "\n",
    "# output to file\n",
    "input_file = \"/home/rh/Arbeitsraum/bitbucket/share/tempgraph/open_data/LongrunWIOD/\" +  \"LongrunWIOD_edgelist.csv\"\n",
    "df_edges.to_csv(input_file,index=False,header=None)  \n",
    "    \n",
    "input_file_2 = \"/home/rh/Arbeitsraum/bitbucket/share/tempgraph/open_data/LongrunWIOD/\" +  \"LongrunWIOD_index2nodes.csv\"\n",
    "df_index2nodes.to_csv(input_file_2,index=False) "
   ]
  },
  {
   "cell_type": "code",
   "execution_count": null,
   "id": "21728bd2",
   "metadata": {},
   "outputs": [],
   "source": []
  },
  {
   "cell_type": "code",
   "execution_count": 5,
   "id": "68943af3",
   "metadata": {},
   "outputs": [],
   "source": [
    "input_file = \"/home/rh/Arbeitsraum/bitbucket/share/tempgraph/open_data/LongrunWIOD/\" +  \"LongrunWIOD_edgelist.csv\"\n",
    "input_file_2 = \"/home/rh/Arbeitsraum/bitbucket/share/tempgraph/open_data/LongrunWIOD/\" +  \"LongrunWIOD_index2nodes.csv\"\n"
   ]
  },
  {
   "cell_type": "code",
   "execution_count": 6,
   "id": "006fbbec",
   "metadata": {},
   "outputs": [],
   "source": [
    "df_edges = pd.read_csv(input_file,header=None)\n",
    "df_index2nodes = pd.read_csv(input_file_2)"
   ]
  },
  {
   "cell_type": "code",
   "execution_count": 7,
   "id": "f6cd29fb",
   "metadata": {},
   "outputs": [
    {
     "data": {
      "text/html": [
       "<div>\n",
       "<style scoped>\n",
       "    .dataframe tbody tr th:only-of-type {\n",
       "        vertical-align: middle;\n",
       "    }\n",
       "\n",
       "    .dataframe tbody tr th {\n",
       "        vertical-align: top;\n",
       "    }\n",
       "\n",
       "    .dataframe thead th {\n",
       "        text-align: right;\n",
       "    }\n",
       "</style>\n",
       "<table border=\"1\" class=\"dataframe\">\n",
       "  <thead>\n",
       "    <tr style=\"text-align: right;\">\n",
       "      <th></th>\n",
       "      <th>0</th>\n",
       "      <th>1</th>\n",
       "      <th>2</th>\n",
       "      <th>3</th>\n",
       "    </tr>\n",
       "  </thead>\n",
       "  <tbody>\n",
       "    <tr>\n",
       "      <th>0</th>\n",
       "      <td>1965</td>\n",
       "      <td>0</td>\n",
       "      <td>0</td>\n",
       "      <td>2.506249e+03</td>\n",
       "    </tr>\n",
       "    <tr>\n",
       "      <th>1</th>\n",
       "      <td>1965</td>\n",
       "      <td>0</td>\n",
       "      <td>1</td>\n",
       "      <td>4.177835e+01</td>\n",
       "    </tr>\n",
       "    <tr>\n",
       "      <th>2</th>\n",
       "      <td>1965</td>\n",
       "      <td>0</td>\n",
       "      <td>2</td>\n",
       "      <td>2.107985e+03</td>\n",
       "    </tr>\n",
       "    <tr>\n",
       "      <th>3</th>\n",
       "      <td>1965</td>\n",
       "      <td>0</td>\n",
       "      <td>3</td>\n",
       "      <td>2.144468e+02</td>\n",
       "    </tr>\n",
       "    <tr>\n",
       "      <th>4</th>\n",
       "      <td>1965</td>\n",
       "      <td>0</td>\n",
       "      <td>4</td>\n",
       "      <td>2.590720e+01</td>\n",
       "    </tr>\n",
       "    <tr>\n",
       "      <th>...</th>\n",
       "      <td>...</td>\n",
       "      <td>...</td>\n",
       "      <td>...</td>\n",
       "      <td>...</td>\n",
       "    </tr>\n",
       "    <tr>\n",
       "      <th>11929769</th>\n",
       "      <td>2000</td>\n",
       "      <td>598</td>\n",
       "      <td>594</td>\n",
       "      <td>1.914889e+05</td>\n",
       "    </tr>\n",
       "    <tr>\n",
       "      <th>11929770</th>\n",
       "      <td>2000</td>\n",
       "      <td>598</td>\n",
       "      <td>595</td>\n",
       "      <td>3.334791e+05</td>\n",
       "    </tr>\n",
       "    <tr>\n",
       "      <th>11929771</th>\n",
       "      <td>2000</td>\n",
       "      <td>598</td>\n",
       "      <td>596</td>\n",
       "      <td>6.574512e+05</td>\n",
       "    </tr>\n",
       "    <tr>\n",
       "      <th>11929772</th>\n",
       "      <td>2000</td>\n",
       "      <td>598</td>\n",
       "      <td>597</td>\n",
       "      <td>1.055737e+06</td>\n",
       "    </tr>\n",
       "    <tr>\n",
       "      <th>11929773</th>\n",
       "      <td>2000</td>\n",
       "      <td>598</td>\n",
       "      <td>598</td>\n",
       "      <td>6.179332e+07</td>\n",
       "    </tr>\n",
       "  </tbody>\n",
       "</table>\n",
       "<p>11929774 rows × 4 columns</p>\n",
       "</div>"
      ],
      "text/plain": [
       "             0    1    2             3\n",
       "0         1965    0    0  2.506249e+03\n",
       "1         1965    0    1  4.177835e+01\n",
       "2         1965    0    2  2.107985e+03\n",
       "3         1965    0    3  2.144468e+02\n",
       "4         1965    0    4  2.590720e+01\n",
       "...        ...  ...  ...           ...\n",
       "11929769  2000  598  594  1.914889e+05\n",
       "11929770  2000  598  595  3.334791e+05\n",
       "11929771  2000  598  596  6.574512e+05\n",
       "11929772  2000  598  597  1.055737e+06\n",
       "11929773  2000  598  598  6.179332e+07\n",
       "\n",
       "[11929774 rows x 4 columns]"
      ]
     },
     "execution_count": 7,
     "metadata": {},
     "output_type": "execute_result"
    }
   ],
   "source": [
    "df_edges"
   ]
  },
  {
   "cell_type": "code",
   "execution_count": null,
   "id": "4aa31ddb",
   "metadata": {},
   "outputs": [],
   "source": []
  },
  {
   "cell_type": "code",
   "execution_count": null,
   "id": "dfb3f03e",
   "metadata": {},
   "outputs": [],
   "source": []
  },
  {
   "cell_type": "code",
   "execution_count": null,
   "id": "e9f48045",
   "metadata": {},
   "outputs": [],
   "source": []
  },
  {
   "cell_type": "code",
   "execution_count": null,
   "id": "db9d1255",
   "metadata": {},
   "outputs": [],
   "source": []
  },
  {
   "cell_type": "markdown",
   "id": "fe2b33d6",
   "metadata": {},
   "source": [
    "# Ignore"
   ]
  },
  {
   "cell_type": "code",
   "execution_count": 3,
   "id": "50600eb4",
   "metadata": {},
   "outputs": [],
   "source": [
    "if 1 == 0:\n",
    "    df_send = pd.DataFrame(df_edges[[0,2]].groupby(0).sum())\n",
    "    df_send.reset_index(inplace=True)\n",
    "    df_send.columns = [\"send\",\"agg\"]\n",
    "\n",
    "    send2agg = dict()\n",
    "    for i in range(len(df_send)):\n",
    "        node = df_send[\"send\"].iloc[i]\n",
    "        valu = float(df_send[\"agg\"].iloc[i])\n",
    "        send2agg.update({node:valu})\n",
    "\n",
    "    out = []\n",
    "    for i in range(len(df_edges)):\n",
    "        df_edges[2].iloc[i] = df_edges[2].iloc[i] / send2agg[df_edges[0].iloc[i]]"
   ]
  },
  {
   "cell_type": "code",
   "execution_count": null,
   "id": "4daf0760",
   "metadata": {},
   "outputs": [],
   "source": []
  },
  {
   "cell_type": "code",
   "execution_count": null,
   "id": "1a039cfe",
   "metadata": {},
   "outputs": [],
   "source": []
  },
  {
   "cell_type": "markdown",
   "id": "860c69d9",
   "metadata": {},
   "source": [
    "# Digraphwave"
   ]
  },
  {
   "cell_type": "code",
   "execution_count": 60,
   "id": "d259724f",
   "metadata": {},
   "outputs": [
    {
     "name": "stdout",
     "output_type": "stream",
     "text": [
      "/home/rh/Arbeitsraum/bitbucket/share/tempgraph/rh/digraphwave\n"
     ]
    }
   ],
   "source": [
    "cd /home/rh/Arbeitsraum/bitbucket/share/tempgraph/rh/digraphwave/"
   ]
  },
  {
   "cell_type": "code",
   "execution_count": 61,
   "id": "e913b451",
   "metadata": {},
   "outputs": [],
   "source": [
    "import numpy as np\n",
    "import pandas as pd\n",
    "import matplotlib.pyplot as plt\n",
    "import digraphwave as digw\n",
    "import data_utils as datautils\n",
    "\n",
    "file_list = glob.glob(\"/home/rh/Arbeitsraum/bitbucket/share/tempgraph/open_data/*_edgelist.csv\")\n",
    "file_list.sort()\n",
    "input_file = file_list[-1]\n",
    "\n",
    "#input_file = \"bank_monthmax_agg.csv\"\n",
    "filetype = \"csv\"  # [\"csv\", \"tsv\", \"edgelist\"]"
   ]
  },
  {
   "cell_type": "code",
   "execution_count": 14,
   "id": "eb51a67f",
   "metadata": {},
   "outputs": [
    {
     "data": {
      "text/plain": [
       "'/home/rh/Arbeitsraum/bitbucket/share/tempgraph/open_data/WIOT2014_Nov16_edgelist.csv'"
      ]
     },
     "execution_count": 14,
     "metadata": {},
     "output_type": "execute_result"
    }
   ],
   "source": [
    "input_file"
   ]
  },
  {
   "cell_type": "code",
   "execution_count": 15,
   "id": "d18360f9",
   "metadata": {},
   "outputs": [
    {
     "name": "stdout",
     "output_type": "stream",
     "text": [
      "CPU times: user 1.34 s, sys: 208 ms, total: 1.55 s\n",
      "Wall time: 1.55 s\n"
     ]
    }
   ],
   "source": [
    "%%time\n",
    "is_weighted = True\n",
    "is_directed = True\n",
    "adj = datautils.read_to_spmat(input_file, filetype=filetype, is_weighted=is_weighted,\n",
    "                                  directed=is_directed)"
   ]
  },
  {
   "cell_type": "code",
   "execution_count": 52,
   "id": "abdec2bf",
   "metadata": {},
   "outputs": [
    {
     "name": "stdout",
     "output_type": "stream",
     "text": [
      "CPU times: user 0 ns, sys: 1.71 ms, total: 1.71 ms\n",
      "Wall time: 1.96 ms\n"
     ]
    }
   ],
   "source": [
    "%%time\n",
    "radius = 3\n",
    "kemb = 128\n",
    "batch_size = 2000\n",
    "is_arctan_log_transform = False  # DigraphwaveHyperparametersのデフォルト\n",
    "n_flag = True  # DigraphwaveHyperparametersのデフォルト\n",
    "t_flag = True  # DigraphwaveHyperparametersのデフォルト\n",
    "a_flag = True  # DigraphwaveHyperparametersのデフォルト\n",
    "order = 10  # DigraphwaveHyperparametersのデフォルト\n",
    "\n",
    "param = digw.DigraphwaveHyperparameters.create(num_nodes=adj.shape[0], num_edges=adj.nnz,\n",
    "                                                   R=radius, k_emb=kemb, batch_size=batch_size,\n",
    "                                                   arctan_log_transform=is_arctan_log_transform,\n",
    "                                                   n_flag=n_flag, \n",
    "                                                   t_flag=t_flag,\n",
    "                                                   a_flag=a_flag,\n",
    "                                                   order=order\n",
    "                                                   )"
   ]
  },
  {
   "cell_type": "code",
   "execution_count": 53,
   "id": "b76a27b3",
   "metadata": {},
   "outputs": [
    {
     "name": "stdout",
     "output_type": "stream",
     "text": [
      "CPU times: user 2min 41s, sys: 24.5 s, total: 3min 6s\n",
      "Wall time: 35.9 s\n"
     ]
    }
   ],
   "source": [
    "%%time\n",
    "\n",
    "num_gpu = 1\n",
    "device_ids = list(range(num_gpu)) if num_gpu > 0 else None\n",
    "\n",
    "embeddings = digw.digraphwave(adj=adj, param=param, device_ids=device_ids)"
   ]
  },
  {
   "cell_type": "code",
   "execution_count": 54,
   "id": "2213bf49",
   "metadata": {},
   "outputs": [],
   "source": [
    "import pickle\n",
    "import matplotlib.pyplot as plt\n",
    "from sklearn.feature_extraction.text import TfidfVectorizer\n",
    "import pandas as pd"
   ]
  },
  {
   "cell_type": "code",
   "execution_count": 55,
   "id": "b463c676",
   "metadata": {},
   "outputs": [],
   "source": [
    "from sklearn.manifold import TSNE\n",
    "tsne = TSNE(n_components=2, random_state = 0, perplexity = 30, n_iter = 1000)\n",
    "X_embedded = tsne.fit_transform(embeddings)\n",
    "df_index2nodes = pd.DataFrame(index2nodes.items())"
   ]
  },
  {
   "cell_type": "code",
   "execution_count": 56,
   "id": "59cf4a00",
   "metadata": {},
   "outputs": [
    {
     "data": {
      "text/html": [
       "<div>\n",
       "<style scoped>\n",
       "    .dataframe tbody tr th:only-of-type {\n",
       "        vertical-align: middle;\n",
       "    }\n",
       "\n",
       "    .dataframe tbody tr th {\n",
       "        vertical-align: top;\n",
       "    }\n",
       "\n",
       "    .dataframe thead th {\n",
       "        text-align: right;\n",
       "    }\n",
       "</style>\n",
       "<table border=\"1\" class=\"dataframe\">\n",
       "  <thead>\n",
       "    <tr style=\"text-align: right;\">\n",
       "      <th></th>\n",
       "      <th>0</th>\n",
       "      <th>1</th>\n",
       "    </tr>\n",
       "  </thead>\n",
       "  <tbody>\n",
       "    <tr>\n",
       "      <th>0</th>\n",
       "      <td>0</td>\n",
       "      <td>AUS-1</td>\n",
       "    </tr>\n",
       "    <tr>\n",
       "      <th>1</th>\n",
       "      <td>1</td>\n",
       "      <td>AUS-10</td>\n",
       "    </tr>\n",
       "    <tr>\n",
       "      <th>2</th>\n",
       "      <td>2</td>\n",
       "      <td>AUS-11</td>\n",
       "    </tr>\n",
       "    <tr>\n",
       "      <th>3</th>\n",
       "      <td>3</td>\n",
       "      <td>AUS-12</td>\n",
       "    </tr>\n",
       "    <tr>\n",
       "      <th>4</th>\n",
       "      <td>4</td>\n",
       "      <td>AUS-13</td>\n",
       "    </tr>\n",
       "    <tr>\n",
       "      <th>...</th>\n",
       "      <td>...</td>\n",
       "      <td>...</td>\n",
       "    </tr>\n",
       "    <tr>\n",
       "      <th>2459</th>\n",
       "      <td>2459</td>\n",
       "      <td>USA-56</td>\n",
       "    </tr>\n",
       "    <tr>\n",
       "      <th>2460</th>\n",
       "      <td>2460</td>\n",
       "      <td>USA-6</td>\n",
       "    </tr>\n",
       "    <tr>\n",
       "      <th>2461</th>\n",
       "      <td>2461</td>\n",
       "      <td>USA-7</td>\n",
       "    </tr>\n",
       "    <tr>\n",
       "      <th>2462</th>\n",
       "      <td>2462</td>\n",
       "      <td>USA-8</td>\n",
       "    </tr>\n",
       "    <tr>\n",
       "      <th>2463</th>\n",
       "      <td>2463</td>\n",
       "      <td>USA-9</td>\n",
       "    </tr>\n",
       "  </tbody>\n",
       "</table>\n",
       "<p>2464 rows × 2 columns</p>\n",
       "</div>"
      ],
      "text/plain": [
       "         0       1\n",
       "0        0   AUS-1\n",
       "1        1  AUS-10\n",
       "2        2  AUS-11\n",
       "3        3  AUS-12\n",
       "4        4  AUS-13\n",
       "...    ...     ...\n",
       "2459  2459  USA-56\n",
       "2460  2460   USA-6\n",
       "2461  2461   USA-7\n",
       "2462  2462   USA-8\n",
       "2463  2463   USA-9\n",
       "\n",
       "[2464 rows x 2 columns]"
      ]
     },
     "execution_count": 56,
     "metadata": {},
     "output_type": "execute_result"
    }
   ],
   "source": [
    "df_index2nodes"
   ]
  },
  {
   "cell_type": "code",
   "execution_count": 57,
   "id": "7dfc00fd",
   "metadata": {},
   "outputs": [
    {
     "name": "stdout",
     "output_type": "stream",
     "text": [
      "['CAN', 'SVK', 'AUS', 'ESP', 'SWE', 'IRL', 'SVN', 'LTU', 'LVA', 'AUT', 'TWN', 'USA', 'HRV', 'RUS', 'TUR', 'CHN', 'GBR', 'BGR', 'ITA', 'EST', 'BEL', 'LUX', 'MLT', 'BRA', 'CZE', 'FIN', 'PRT', 'POL', 'NLD', 'ROW', 'IDN', 'FRA', 'KOR', 'HUN', 'JPN', 'NOR', 'DNK', 'MEX', 'CYP', 'GRC', 'DEU', 'IND', 'ROU', 'CHE']\n"
     ]
    }
   ],
   "source": [
    "list_countries = []\n",
    "for i in range(len(df_index2nodes)):\n",
    "    v1 = df_index2nodes[1].iloc[i].split(\"-\")\n",
    "    list_countries.append(v1[0])\n",
    "    \n",
    "list_countries = list(set(list_countries))\n",
    "print(list_countries)"
   ]
  },
  {
   "cell_type": "code",
   "execution_count": null,
   "id": "b49dbc65",
   "metadata": {},
   "outputs": [],
   "source": []
  },
  {
   "cell_type": "code",
   "execution_count": 58,
   "id": "4cd4b1f2",
   "metadata": {
    "scrolled": true
   },
   "outputs": [
    {
     "name": "stdout",
     "output_type": "stream",
     "text": [
      "1344\n",
      "1400\n"
     ]
    }
   ],
   "source": [
    "# GBR\n",
    "\n",
    "country = \"JPN\"\n",
    "\n",
    "start_index = -1\n",
    "end_index = -1\n",
    "for i in range(len(df_index2nodes)):\n",
    "    if start_index != -1 and df_index2nodes[1].iloc[i][:3] != country:\n",
    "        end_index = i\n",
    "        break\n",
    "    \n",
    "    if start_index == -1 and  df_index2nodes[1].iloc[i][:3] == country:\n",
    "        start_index = i\n",
    "if end_index == -1:\n",
    "    end_index = len(df_index2nodes) - 1\n",
    "print(start_index)\n",
    "print(end_index)"
   ]
  },
  {
   "cell_type": "code",
   "execution_count": null,
   "id": "5b4f0bcd",
   "metadata": {},
   "outputs": [],
   "source": []
  },
  {
   "cell_type": "code",
   "execution_count": 59,
   "id": "34c5dfa5",
   "metadata": {},
   "outputs": [
    {
     "data": {
      "text/plain": [
       "<matplotlib.collections.PathCollection at 0x7fc5b8a02190>"
      ]
     },
     "execution_count": 59,
     "metadata": {},
     "output_type": "execute_result"
    },
    {
     "data": {
      "image/png": "[encoded data removed]",
      "text/plain": [
       "<Figure size 640x480 with 1 Axes>"
      ]
     },
     "metadata": {},
     "output_type": "display_data"
    }
   ],
   "source": [
    "\n",
    "plt.scatter(X_embedded[:,0],X_embedded[:,1])\n",
    "plt.scatter(X_embedded[start_index:end_index,0],X_embedded[start_index:end_index,1],color=\"r\")"
   ]
  },
  {
   "cell_type": "code",
   "execution_count": null,
   "id": "dff5dcd6",
   "metadata": {},
   "outputs": [],
   "source": []
  },
  {
   "cell_type": "code",
   "execution_count": null,
   "id": "f1bef4af",
   "metadata": {},
   "outputs": [],
   "source": []
  },
  {
   "cell_type": "code",
   "execution_count": null,
   "id": "534237f7",
   "metadata": {},
   "outputs": [],
   "source": []
  },
  {
   "cell_type": "code",
   "execution_count": null,
   "id": "951080ba",
   "metadata": {},
   "outputs": [],
   "source": []
  },
  {
   "cell_type": "code",
   "execution_count": null,
   "id": "173087fb",
   "metadata": {},
   "outputs": [],
   "source": []
  },
  {
   "cell_type": "code",
   "execution_count": null,
   "id": "1730b3ee",
   "metadata": {},
   "outputs": [],
   "source": []
  },
  {
   "cell_type": "code",
   "execution_count": null,
   "id": "89629907",
   "metadata": {},
   "outputs": [],
   "source": []
  },
  {
   "cell_type": "code",
   "execution_count": null,
   "id": "73d2155a",
   "metadata": {},
   "outputs": [],
   "source": []
  },
  {
   "cell_type": "code",
   "execution_count": null,
   "id": "eae63818",
   "metadata": {},
   "outputs": [],
   "source": []
  },
  {
   "cell_type": "code",
   "execution_count": null,
   "id": "041bffa8",
   "metadata": {},
   "outputs": [],
   "source": []
  }
 ],
 "metadata": {
  "kernelspec": {
   "display_name": "Python 3 (ipykernel)",
   "language": "python",
   "name": "python3"
  },
  "language_info": {
   "codemirror_mode": {
    "name": "ipython",
    "version": 3
   },
   "file_extension": ".py",
   "mimetype": "text/x-python",
   "name": "python",
   "nbconvert_exporter": "python",
   "pygments_lexer": "ipython3",
   "version": "3.8.10"
  }
 },
 "nbformat": 4,
 "nbformat_minor": 5
}
